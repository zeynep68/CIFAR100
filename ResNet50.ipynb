{
  "nbformat": 4,
  "nbformat_minor": 0,
  "metadata": {
    "colab": {
      "name": "ResNet50.ipynb",
      "provenance": [],
      "collapsed_sections": [],
      "authorship_tag": "ABX9TyPUpej+Q41ETjVvrJZh7mYC",
      "include_colab_link": true
    },
    "kernelspec": {
      "name": "python3",
      "display_name": "Python 3"
    },
    "accelerator": "GPU"
  },
  "cells": [
    {
      "cell_type": "markdown",
      "metadata": {
        "id": "view-in-github",
        "colab_type": "text"
      },
      "source": [
        "<a href=\"https://colab.research.google.com/github/zeynep68/CIFAR100/blob/main/ResNet50.ipynb\" target=\"_parent\"><img src=\"https://colab.research.google.com/assets/colab-badge.svg\" alt=\"Open In Colab\"/></a>"
      ]
    },
    {
      "cell_type": "code",
      "metadata": {
        "id": "RkkzCoUEd0mE"
      },
      "source": [
        "import torch\n",
        "import torch.nn as nn\n",
        "import numpy as np\n",
        "import torch.optim as optim\n",
        "import torch.nn.functional as F\n",
        "import matplotlib.pyplot as plt\n",
        "\n",
        "from torch.nn import Sequential, Conv2d, BatchNorm2d, ReLU, MaxPool2d, AvgPool2d, Softmax, Flatten\n",
        "from torchvision import transforms\n",
        "from torch.utils.data import DataLoader, sampler\n",
        "from torchvision.datasets import CIFAR100 \n",
        "from torch.optim.lr_scheduler import MultiStepLR"
      ],
      "execution_count": 567,
      "outputs": []
    },
    {
      "cell_type": "markdown",
      "metadata": {
        "id": "gSLsOLIoeoQP"
      },
      "source": [
        "# Load and prepare data"
      ]
    },
    {
      "cell_type": "code",
      "metadata": {
        "id": "HXtYjwSIepQe"
      },
      "source": [
        "train_mean = torch.Tensor([0.5072, 0.4867, 0.4411])\n",
        "train_std = torch.Tensor([0.2668, 0.2559, 0.2756])\n",
        "test_mean = torch.Tensor([0.5142, 0.4928, 0.4467])\n",
        "test_std = torch.Tensor([0.2707, 0.2597, 0.2794])"
      ],
      "execution_count": 568,
      "outputs": []
    },
    {
      "cell_type": "code",
      "metadata": {
        "id": "J-6CZn0serPZ"
      },
      "source": [
        "BATCH_SIZE = 128\n",
        "transform_train = transforms.Compose([transforms.ToTensor(), transforms.Normalize(train_mean, train_std)])\n",
        "transform_test = transforms.Compose([transforms.ToTensor(), transforms.Normalize(test_mean, test_std)])"
      ],
      "execution_count": 569,
      "outputs": []
    },
    {
      "cell_type": "code",
      "metadata": {
        "id": "a_bdAv8kesoz",
        "outputId": "52edbb6d-054c-4895-d89a-c3f3c0a1b08e",
        "colab": {
          "base_uri": "https://localhost:8080/",
          "height": 52
        }
      },
      "source": [
        "train = CIFAR100(root='./trainset', train=True, download=True, transform=transform_train)\n",
        "test = CIFAR100(root='./testset', train=False, download=True, transform=transform_test)"
      ],
      "execution_count": 570,
      "outputs": [
        {
          "output_type": "stream",
          "text": [
            "Files already downloaded and verified\n",
            "Files already downloaded and verified\n"
          ],
          "name": "stdout"
        }
      ]
    },
    {
      "cell_type": "code",
      "metadata": {
        "id": "edhx_al6et5F",
        "outputId": "da8c3231-d00b-4ed0-b436-32165d5fa880",
        "colab": {
          "base_uri": "https://localhost:8080/",
          "height": 34
        }
      },
      "source": [
        "len(train), len(test)"
      ],
      "execution_count": 571,
      "outputs": [
        {
          "output_type": "execute_result",
          "data": {
            "text/plain": [
              "(50000, 10000)"
            ]
          },
          "metadata": {
            "tags": []
          },
          "execution_count": 571
        }
      ]
    },
    {
      "cell_type": "code",
      "metadata": {
        "id": "eVuxh3rLevf0"
      },
      "source": [
        "NUM_TRAIN = 49000\n",
        "train_loader = DataLoader(train, batch_size=BATCH_SIZE, sampler=sampler.SubsetRandomSampler(range(NUM_TRAIN))) # 391\n",
        "val_loader = DataLoader(train, batch_size=BATCH_SIZE, sampler=sampler.SubsetRandomSampler(range(NUM_TRAIN, 50000)))\n",
        "test_loader = DataLoader(test, batch_size=BATCH_SIZE, shuffle=False)"
      ],
      "execution_count": 572,
      "outputs": []
    },
    {
      "cell_type": "code",
      "metadata": {
        "id": "fRg6iTsEexNM"
      },
      "source": [
        "class ConvolutionalModule(nn.Module):\n",
        "  def __init__(self, input_channel=64, output_channel=128, stride=1, pad=0):\n",
        "    super(ConvolutionalModule, self).__init__()\n",
        "    self.layer1 = Sequential(\n",
        "                    Conv2d(in_channels=input_channel, out_channels=output_channel, kernel_size=1, stride=stride, padding=pad),\n",
        "                    BatchNorm2d(output_channel),\n",
        "                    ReLU()\n",
        "                  )\n",
        "\n",
        "    self.x_shortcut = Sequential(\n",
        "                        Conv2d(in_channels=input_channel, out_channels=output_channel, kernel_size=1, stride=stride, padding=0),\n",
        "                        BatchNorm2d(output_channel),\n",
        "                        ReLU()\n",
        "                      )      \n",
        "\n",
        "  def forward(self, x):\n",
        "    return self.x_shortcut(x) + self.layer1(x)"
      ],
      "execution_count": 580,
      "outputs": []
    },
    {
      "cell_type": "code",
      "metadata": {
        "id": "0ZkWWXj9suwQ"
      },
      "source": [
        "class ReduceModule(nn.Module):\n",
        "  def __init__(self, input_channel=64, output_channel=128):\n",
        "    super(ReduceModule, self).__init__()\n",
        "    self.layer1 = Sequential(\n",
        "                    Conv2d(in_channels=input_channel, out_channels=output_channel, kernel_size=1, stride=1, padding=0),\n",
        "                    BatchNorm2d(output_channel),\n",
        "                    ReLU()\n",
        "                  )       \n",
        "    \n",
        "  def forward(self, x):\n",
        "    return self.layer1(x)"
      ],
      "execution_count": 581,
      "outputs": []
    },
    {
      "cell_type": "code",
      "metadata": {
        "id": "soP_HTF-ezPa"
      },
      "source": [
        "class BasicModule(nn.Module):\n",
        "  def __init__(self, num_channel):\n",
        "    super(BasicModule, self).__init__()\n",
        "    self.layer1 = Sequential(\n",
        "                    Conv2d(in_channels=num_channel, out_channels=num_channel, kernel_size=1, stride=1, padding=0),\n",
        "                    BatchNorm2d(num_channel),\n",
        "                    ReLU()\n",
        "                  )       \n",
        "    self.layer2 = Sequential(\n",
        "                    Conv2d(in_channels=num_channel, out_channels=num_channel, kernel_size=3, stride=1, padding=1),\n",
        "                    BatchNorm2d(num_channel),\n",
        "                    ReLU()\n",
        "                  )\n",
        "\n",
        "  def forward(self, x):\n",
        "    return self.layer2(self.layer1(x))"
      ],
      "execution_count": 582,
      "outputs": []
    },
    {
      "cell_type": "code",
      "metadata": {
        "id": "yLDIsidc0Kf4"
      },
      "source": [
        "class Bottleneck(nn.Module):\n",
        "  def __init__(self, num_channel, stride=1, pad=0):\n",
        "    super(Bottleneck, self).__init__()\n",
        "    self.layer1 = Sequential(\n",
        "                    BasicModule(num_channel[1]) if num_channel[0] == num_channel[1] else ReduceModule(num_channel[0], num_channel[1])\n",
        "                  )\n",
        "    self.layer2 = Sequential(\n",
        "                    ConvolutionalModule(num_channel[1], num_channel[2], stride=stride, pad=pad)\n",
        "                  )\n",
        "    \n",
        "    self.x_shortcut = Sequential(\n",
        "                        Conv2d(in_channels=num_channel[0], out_channels=num_channel[2], kernel_size=1, stride=1, padding=0),\n",
        "                        BatchNorm2d(num_channel[2]),\n",
        "                        ReLU()\n",
        "                      )\n",
        "\n",
        "  def forward(self, x): \n",
        "    a = self.layer1(x)\n",
        "    print(a.shape)\n",
        "    b = self.layer2(a)\n",
        "    print(b.shape)\n",
        "    print()\n",
        "    print()\n",
        "    c = self.x_shortcut(x) + b\n",
        "    print(\"foo\")\n",
        "    return c"
      ],
      "execution_count": 583,
      "outputs": []
    },
    {
      "cell_type": "code",
      "metadata": {
        "id": "IIBr2FZ5e1B1"
      },
      "source": [
        "class ResNet50(nn.Module):\n",
        "  def __init__(self):\n",
        "    super(ResNet50, self).__init__()\n",
        "    self.conv1 = Sequential(\n",
        "                         Conv2d(in_channels=3, out_channels=64, kernel_size=7 ,stride=2, padding=0),\n",
        "                         BatchNorm2d(64),\n",
        "                         ReLU(),\n",
        "                         MaxPool2d(kernel_size=3, stride=2)\n",
        "                       )\n",
        "    \n",
        "    self.conv2 = Sequential(\n",
        "                   Bottleneck([64,64,256]),\n",
        "                   Bottleneck([256,64,256]),\n",
        "                   Bottleneck([256,64,256], stride=2, pad=1)\n",
        "                 )\n",
        "    \n",
        "    self.conv3 = Sequential(\n",
        "                   Bottleneck([256,128,512]),\n",
        "                   Bottleneck([512,128,512]),\n",
        "                   Bottleneck([512,128,512]),\n",
        "                   Bottleneck([512,128,512])\n",
        "                 )\n",
        "\n",
        "    self.conv4 = Sequential(\n",
        "                   Bottleneck([512,256,1024]),\n",
        "                   Bottleneck([1024,256,1024]),\n",
        "                   Bottleneck([1024,256,1024]),\n",
        "                   Bottleneck([1024,256,1024]),\n",
        "                   Bottleneck([1024,256,1024]),\n",
        "                   Bottleneck([1024,256,1024])\n",
        "                 )\n",
        "    \n",
        "    self.conv5 = Sequential(\n",
        "                   Bottleneck([1024,512,2048]),\n",
        "                   Bottleneck([2048,512,2048]),\n",
        "                   Bottleneck([2048,512,2048])\n",
        "                 )\n",
        "\n",
        "    self.output_layer = Sequential(\n",
        "                          AvgPool2d(kernel_size=1),\n",
        "                          Flatten(),\n",
        "                          Softmax(dim=1)\n",
        "                        )\n",
        "    \n",
        "\n",
        "  def forward(self, x):\n",
        "    y = self.conv1(x)\n",
        "    y = self.conv2(y)\n",
        "    #y = self.conv3(y)\n",
        "    #y = self.conv4(y)\n",
        "    #y = self.conv5(y)\n",
        "    y = self.output_layer(y)\n",
        "    return y"
      ],
      "execution_count": 584,
      "outputs": []
    },
    {
      "cell_type": "code",
      "metadata": {
        "id": "6zkYKA_8CYob",
        "outputId": "130b2327-f455-4b71-d4fe-703e09575b0a",
        "colab": {
          "base_uri": "https://localhost:8080/",
          "height": 397
        }
      },
      "source": [
        "model = ResNet50()\n",
        "model = model.to(device=DEVICE)\n",
        "model.train() \n",
        "a = torch.randn([12,3,256,256])\n",
        "a = a.to(device=DEVICE)\n",
        "scores = model(a)"
      ],
      "execution_count": 585,
      "outputs": [
        {
          "output_type": "error",
          "ename": "RuntimeError",
          "evalue": "ignored",
          "traceback": [
            "\u001b[0;31m---------------------------------------------------------------------------\u001b[0m",
            "\u001b[0;31mRuntimeError\u001b[0m                              Traceback (most recent call last)",
            "\u001b[0;32m<ipython-input-585-3be649e613c9>\u001b[0m in \u001b[0;36m<module>\u001b[0;34m()\u001b[0m\n\u001b[1;32m      1\u001b[0m \u001b[0mmodel\u001b[0m \u001b[0;34m=\u001b[0m \u001b[0mResNet50\u001b[0m\u001b[0;34m(\u001b[0m\u001b[0;34m)\u001b[0m\u001b[0;34m\u001b[0m\u001b[0;34m\u001b[0m\u001b[0m\n\u001b[0;32m----> 2\u001b[0;31m \u001b[0mmodel\u001b[0m \u001b[0;34m=\u001b[0m \u001b[0mmodel\u001b[0m\u001b[0;34m.\u001b[0m\u001b[0mto\u001b[0m\u001b[0;34m(\u001b[0m\u001b[0mdevice\u001b[0m\u001b[0;34m=\u001b[0m\u001b[0mDEVICE\u001b[0m\u001b[0;34m)\u001b[0m\u001b[0;34m\u001b[0m\u001b[0;34m\u001b[0m\u001b[0m\n\u001b[0m\u001b[1;32m      3\u001b[0m \u001b[0mmodel\u001b[0m\u001b[0;34m.\u001b[0m\u001b[0mtrain\u001b[0m\u001b[0;34m(\u001b[0m\u001b[0;34m)\u001b[0m\u001b[0;34m\u001b[0m\u001b[0;34m\u001b[0m\u001b[0m\n\u001b[1;32m      4\u001b[0m \u001b[0ma\u001b[0m \u001b[0;34m=\u001b[0m \u001b[0mtorch\u001b[0m\u001b[0;34m.\u001b[0m\u001b[0mrandn\u001b[0m\u001b[0;34m(\u001b[0m\u001b[0;34m[\u001b[0m\u001b[0;36m12\u001b[0m\u001b[0;34m,\u001b[0m\u001b[0;36m3\u001b[0m\u001b[0;34m,\u001b[0m\u001b[0;36m256\u001b[0m\u001b[0;34m,\u001b[0m\u001b[0;36m256\u001b[0m\u001b[0;34m]\u001b[0m\u001b[0;34m)\u001b[0m\u001b[0;34m\u001b[0m\u001b[0;34m\u001b[0m\u001b[0m\n\u001b[1;32m      5\u001b[0m \u001b[0ma\u001b[0m \u001b[0;34m=\u001b[0m \u001b[0ma\u001b[0m\u001b[0;34m.\u001b[0m\u001b[0mto\u001b[0m\u001b[0;34m(\u001b[0m\u001b[0mdevice\u001b[0m\u001b[0;34m=\u001b[0m\u001b[0mDEVICE\u001b[0m\u001b[0;34m)\u001b[0m\u001b[0;34m\u001b[0m\u001b[0;34m\u001b[0m\u001b[0m\n",
            "\u001b[0;32m/usr/local/lib/python3.6/dist-packages/torch/nn/modules/module.py\u001b[0m in \u001b[0;36mto\u001b[0;34m(self, *args, **kwargs)\u001b[0m\n\u001b[1;32m    605\u001b[0m             \u001b[0;32mreturn\u001b[0m \u001b[0mt\u001b[0m\u001b[0;34m.\u001b[0m\u001b[0mto\u001b[0m\u001b[0;34m(\u001b[0m\u001b[0mdevice\u001b[0m\u001b[0;34m,\u001b[0m \u001b[0mdtype\u001b[0m \u001b[0;32mif\u001b[0m \u001b[0mt\u001b[0m\u001b[0;34m.\u001b[0m\u001b[0mis_floating_point\u001b[0m\u001b[0;34m(\u001b[0m\u001b[0;34m)\u001b[0m \u001b[0;32melse\u001b[0m \u001b[0;32mNone\u001b[0m\u001b[0;34m,\u001b[0m \u001b[0mnon_blocking\u001b[0m\u001b[0;34m)\u001b[0m\u001b[0;34m\u001b[0m\u001b[0;34m\u001b[0m\u001b[0m\n\u001b[1;32m    606\u001b[0m \u001b[0;34m\u001b[0m\u001b[0m\n\u001b[0;32m--> 607\u001b[0;31m         \u001b[0;32mreturn\u001b[0m \u001b[0mself\u001b[0m\u001b[0;34m.\u001b[0m\u001b[0m_apply\u001b[0m\u001b[0;34m(\u001b[0m\u001b[0mconvert\u001b[0m\u001b[0;34m)\u001b[0m\u001b[0;34m\u001b[0m\u001b[0;34m\u001b[0m\u001b[0m\n\u001b[0m\u001b[1;32m    608\u001b[0m \u001b[0;34m\u001b[0m\u001b[0m\n\u001b[1;32m    609\u001b[0m     def register_backward_hook(\n",
            "\u001b[0;32m/usr/local/lib/python3.6/dist-packages/torch/nn/modules/module.py\u001b[0m in \u001b[0;36m_apply\u001b[0;34m(self, fn)\u001b[0m\n\u001b[1;32m    352\u001b[0m     \u001b[0;32mdef\u001b[0m \u001b[0m_apply\u001b[0m\u001b[0;34m(\u001b[0m\u001b[0mself\u001b[0m\u001b[0;34m,\u001b[0m \u001b[0mfn\u001b[0m\u001b[0;34m)\u001b[0m\u001b[0;34m:\u001b[0m\u001b[0;34m\u001b[0m\u001b[0;34m\u001b[0m\u001b[0m\n\u001b[1;32m    353\u001b[0m         \u001b[0;32mfor\u001b[0m \u001b[0mmodule\u001b[0m \u001b[0;32min\u001b[0m \u001b[0mself\u001b[0m\u001b[0;34m.\u001b[0m\u001b[0mchildren\u001b[0m\u001b[0;34m(\u001b[0m\u001b[0;34m)\u001b[0m\u001b[0;34m:\u001b[0m\u001b[0;34m\u001b[0m\u001b[0;34m\u001b[0m\u001b[0m\n\u001b[0;32m--> 354\u001b[0;31m             \u001b[0mmodule\u001b[0m\u001b[0;34m.\u001b[0m\u001b[0m_apply\u001b[0m\u001b[0;34m(\u001b[0m\u001b[0mfn\u001b[0m\u001b[0;34m)\u001b[0m\u001b[0;34m\u001b[0m\u001b[0;34m\u001b[0m\u001b[0m\n\u001b[0m\u001b[1;32m    355\u001b[0m \u001b[0;34m\u001b[0m\u001b[0m\n\u001b[1;32m    356\u001b[0m         \u001b[0;32mdef\u001b[0m \u001b[0mcompute_should_use_set_data\u001b[0m\u001b[0;34m(\u001b[0m\u001b[0mtensor\u001b[0m\u001b[0;34m,\u001b[0m \u001b[0mtensor_applied\u001b[0m\u001b[0;34m)\u001b[0m\u001b[0;34m:\u001b[0m\u001b[0;34m\u001b[0m\u001b[0;34m\u001b[0m\u001b[0m\n",
            "\u001b[0;32m/usr/local/lib/python3.6/dist-packages/torch/nn/modules/module.py\u001b[0m in \u001b[0;36m_apply\u001b[0;34m(self, fn)\u001b[0m\n\u001b[1;32m    352\u001b[0m     \u001b[0;32mdef\u001b[0m \u001b[0m_apply\u001b[0m\u001b[0;34m(\u001b[0m\u001b[0mself\u001b[0m\u001b[0;34m,\u001b[0m \u001b[0mfn\u001b[0m\u001b[0;34m)\u001b[0m\u001b[0;34m:\u001b[0m\u001b[0;34m\u001b[0m\u001b[0;34m\u001b[0m\u001b[0m\n\u001b[1;32m    353\u001b[0m         \u001b[0;32mfor\u001b[0m \u001b[0mmodule\u001b[0m \u001b[0;32min\u001b[0m \u001b[0mself\u001b[0m\u001b[0;34m.\u001b[0m\u001b[0mchildren\u001b[0m\u001b[0;34m(\u001b[0m\u001b[0;34m)\u001b[0m\u001b[0;34m:\u001b[0m\u001b[0;34m\u001b[0m\u001b[0;34m\u001b[0m\u001b[0m\n\u001b[0;32m--> 354\u001b[0;31m             \u001b[0mmodule\u001b[0m\u001b[0;34m.\u001b[0m\u001b[0m_apply\u001b[0m\u001b[0;34m(\u001b[0m\u001b[0mfn\u001b[0m\u001b[0;34m)\u001b[0m\u001b[0;34m\u001b[0m\u001b[0;34m\u001b[0m\u001b[0m\n\u001b[0m\u001b[1;32m    355\u001b[0m \u001b[0;34m\u001b[0m\u001b[0m\n\u001b[1;32m    356\u001b[0m         \u001b[0;32mdef\u001b[0m \u001b[0mcompute_should_use_set_data\u001b[0m\u001b[0;34m(\u001b[0m\u001b[0mtensor\u001b[0m\u001b[0;34m,\u001b[0m \u001b[0mtensor_applied\u001b[0m\u001b[0;34m)\u001b[0m\u001b[0;34m:\u001b[0m\u001b[0;34m\u001b[0m\u001b[0;34m\u001b[0m\u001b[0m\n",
            "\u001b[0;32m/usr/local/lib/python3.6/dist-packages/torch/nn/modules/module.py\u001b[0m in \u001b[0;36m_apply\u001b[0;34m(self, fn)\u001b[0m\n\u001b[1;32m    374\u001b[0m                 \u001b[0;31m# `with torch.no_grad():`\u001b[0m\u001b[0;34m\u001b[0m\u001b[0;34m\u001b[0m\u001b[0;34m\u001b[0m\u001b[0m\n\u001b[1;32m    375\u001b[0m                 \u001b[0;32mwith\u001b[0m \u001b[0mtorch\u001b[0m\u001b[0;34m.\u001b[0m\u001b[0mno_grad\u001b[0m\u001b[0;34m(\u001b[0m\u001b[0;34m)\u001b[0m\u001b[0;34m:\u001b[0m\u001b[0;34m\u001b[0m\u001b[0;34m\u001b[0m\u001b[0m\n\u001b[0;32m--> 376\u001b[0;31m                     \u001b[0mparam_applied\u001b[0m \u001b[0;34m=\u001b[0m \u001b[0mfn\u001b[0m\u001b[0;34m(\u001b[0m\u001b[0mparam\u001b[0m\u001b[0;34m)\u001b[0m\u001b[0;34m\u001b[0m\u001b[0;34m\u001b[0m\u001b[0m\n\u001b[0m\u001b[1;32m    377\u001b[0m                 \u001b[0mshould_use_set_data\u001b[0m \u001b[0;34m=\u001b[0m \u001b[0mcompute_should_use_set_data\u001b[0m\u001b[0;34m(\u001b[0m\u001b[0mparam\u001b[0m\u001b[0;34m,\u001b[0m \u001b[0mparam_applied\u001b[0m\u001b[0;34m)\u001b[0m\u001b[0;34m\u001b[0m\u001b[0;34m\u001b[0m\u001b[0m\n\u001b[1;32m    378\u001b[0m                 \u001b[0;32mif\u001b[0m \u001b[0mshould_use_set_data\u001b[0m\u001b[0;34m:\u001b[0m\u001b[0;34m\u001b[0m\u001b[0;34m\u001b[0m\u001b[0m\n",
            "\u001b[0;32m/usr/local/lib/python3.6/dist-packages/torch/nn/modules/module.py\u001b[0m in \u001b[0;36mconvert\u001b[0;34m(t)\u001b[0m\n\u001b[1;32m    603\u001b[0m             \u001b[0;32mif\u001b[0m \u001b[0mconvert_to_format\u001b[0m \u001b[0;32mis\u001b[0m \u001b[0;32mnot\u001b[0m \u001b[0;32mNone\u001b[0m \u001b[0;32mand\u001b[0m \u001b[0mt\u001b[0m\u001b[0;34m.\u001b[0m\u001b[0mdim\u001b[0m\u001b[0;34m(\u001b[0m\u001b[0;34m)\u001b[0m \u001b[0;34m==\u001b[0m \u001b[0;36m4\u001b[0m\u001b[0;34m:\u001b[0m\u001b[0;34m\u001b[0m\u001b[0;34m\u001b[0m\u001b[0m\n\u001b[1;32m    604\u001b[0m                 \u001b[0;32mreturn\u001b[0m \u001b[0mt\u001b[0m\u001b[0;34m.\u001b[0m\u001b[0mto\u001b[0m\u001b[0;34m(\u001b[0m\u001b[0mdevice\u001b[0m\u001b[0;34m,\u001b[0m \u001b[0mdtype\u001b[0m \u001b[0;32mif\u001b[0m \u001b[0mt\u001b[0m\u001b[0;34m.\u001b[0m\u001b[0mis_floating_point\u001b[0m\u001b[0;34m(\u001b[0m\u001b[0;34m)\u001b[0m \u001b[0;32melse\u001b[0m \u001b[0;32mNone\u001b[0m\u001b[0;34m,\u001b[0m \u001b[0mnon_blocking\u001b[0m\u001b[0;34m,\u001b[0m \u001b[0mmemory_format\u001b[0m\u001b[0;34m=\u001b[0m\u001b[0mconvert_to_format\u001b[0m\u001b[0;34m)\u001b[0m\u001b[0;34m\u001b[0m\u001b[0;34m\u001b[0m\u001b[0m\n\u001b[0;32m--> 605\u001b[0;31m             \u001b[0;32mreturn\u001b[0m \u001b[0mt\u001b[0m\u001b[0;34m.\u001b[0m\u001b[0mto\u001b[0m\u001b[0;34m(\u001b[0m\u001b[0mdevice\u001b[0m\u001b[0;34m,\u001b[0m \u001b[0mdtype\u001b[0m \u001b[0;32mif\u001b[0m \u001b[0mt\u001b[0m\u001b[0;34m.\u001b[0m\u001b[0mis_floating_point\u001b[0m\u001b[0;34m(\u001b[0m\u001b[0;34m)\u001b[0m \u001b[0;32melse\u001b[0m \u001b[0;32mNone\u001b[0m\u001b[0;34m,\u001b[0m \u001b[0mnon_blocking\u001b[0m\u001b[0;34m)\u001b[0m\u001b[0;34m\u001b[0m\u001b[0;34m\u001b[0m\u001b[0m\n\u001b[0m\u001b[1;32m    606\u001b[0m \u001b[0;34m\u001b[0m\u001b[0m\n\u001b[1;32m    607\u001b[0m         \u001b[0;32mreturn\u001b[0m \u001b[0mself\u001b[0m\u001b[0;34m.\u001b[0m\u001b[0m_apply\u001b[0m\u001b[0;34m(\u001b[0m\u001b[0mconvert\u001b[0m\u001b[0;34m)\u001b[0m\u001b[0;34m\u001b[0m\u001b[0;34m\u001b[0m\u001b[0m\n",
            "\u001b[0;31mRuntimeError\u001b[0m: CUDA out of memory. Tried to allocate 2.00 MiB (GPU 0; 11.17 GiB total capacity; 9.78 GiB already allocated; 1.81 MiB free; 10.81 GiB reserved in total by PyTorch)"
          ]
        }
      ]
    },
    {
      "cell_type": "markdown",
      "metadata": {
        "id": "Us94CDJte4jv"
      },
      "source": [
        "# Function to check accuracy"
      ]
    },
    {
      "cell_type": "code",
      "metadata": {
        "id": "l1M8p9vGe3Cq"
      },
      "source": [
        "if torch.cuda.is_available():\n",
        "    DEVICE = torch.device('cuda')\n",
        "else:\n",
        "    DEVICE = torch.device('cpu')\n",
        "\n",
        "print('using device:', DEVICE)"
      ],
      "execution_count": null,
      "outputs": []
    },
    {
      "cell_type": "code",
      "metadata": {
        "id": "cv_AmXOse6sj"
      },
      "source": [
        "def check_accuracy(loader, model):\n",
        "  if loader.dataset.train:\n",
        "    print('Checking accuracy on validation set')\n",
        "  else:\n",
        "    print('Checking accuracy on test set') \n",
        "  model.eval() \n",
        "\n",
        "  num_correct = 0\n",
        "  num_samples = 0\n",
        "\n",
        "  with torch.no_grad():\n",
        "    for images, labels in loader: # durchläuft 391 mal (mit jeweils 128 Bildern)\n",
        "      images = images.to(device=DEVICE)\n",
        "      labels = labels.to(device=DEVICE)\n",
        "      scores = model(images)\n",
        "      _, predictions = scores.max(1)\n",
        "      num_correct += (predictions == labels).sum()\n",
        "      num_samples += predictions.size(0)\n",
        "    acc = float(num_correct) / num_samples\n",
        "    print('Got %d / %d correct (%.2f)' % (num_correct, num_samples, 100 * acc))"
      ],
      "execution_count": null,
      "outputs": []
    },
    {
      "cell_type": "markdown",
      "metadata": {
        "id": "cDBpC-Y5e-e3"
      },
      "source": [
        "# Training"
      ]
    },
    {
      "cell_type": "code",
      "metadata": {
        "id": "0sidT3JLe8f-"
      },
      "source": [
        "print_every = 100"
      ],
      "execution_count": null,
      "outputs": []
    },
    {
      "cell_type": "code",
      "metadata": {
        "id": "_PlohFHqfArv"
      },
      "source": [
        "def train(model, optimizer, epochs=120):\n",
        "\n",
        "  model = model.to(device=DEVICE)\n",
        "  for epoch in range(epochs):\n",
        "    scheduler.step()\n",
        "    print('Epoch:', epoch,'LR:', scheduler.get_lr())\n",
        "    for t, (images, labels) in enumerate(train_loader): # durchläuft 391 mal (mit jeweils 128 Bildern)\n",
        "      model.train() \n",
        "      images = images.to(device=DEVICE)\n",
        "      labels = labels.to(device=DEVICE)\n",
        "      scores = model(images)\n",
        "      loss = F.cross_entropy(scores, labels)\n",
        "\n",
        "      optimizer.zero_grad()\n",
        "      loss.backward()\n",
        "      optimizer.step()\n",
        "\n",
        "      if t % print_every == 0:\n",
        "        print('Iteration %d, loss = %.4f' % (t, loss.item()))\n",
        "        check_accuracy(val_loader, model)\n",
        "        print()"
      ],
      "execution_count": null,
      "outputs": []
    },
    {
      "cell_type": "code",
      "metadata": {
        "id": "XYMYPaQgfByd"
      },
      "source": [
        "learning_rate = 1e-3\n",
        "model = ResNet50()\n",
        "optimizer = optim.Adam(model.parameters(), lr=learning_rate)\n",
        "scheduler = MultiStepLR(optimizer, milestones=[40,80, 100], gamma=0.1)"
      ],
      "execution_count": null,
      "outputs": []
    },
    {
      "cell_type": "code",
      "metadata": {
        "id": "erKXoCZvfDPs"
      },
      "source": [
        "train(model, optimizer)"
      ],
      "execution_count": null,
      "outputs": []
    },
    {
      "cell_type": "code",
      "metadata": {
        "id": "Jh8MvFA0AJIT"
      },
      "source": [
        ""
      ],
      "execution_count": null,
      "outputs": []
    }
  ]
}