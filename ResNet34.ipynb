{
  "nbformat": 4,
  "nbformat_minor": 0,
  "metadata": {
    "colab": {
      "name": "ResNet34.ipynb",
      "provenance": [],
      "collapsed_sections": [],
      "authorship_tag": "ABX9TyNnjZYSJ9pAYB2RimBubq4X",
      "include_colab_link": true
    },
    "kernelspec": {
      "name": "python3",
      "display_name": "Python 3"
    },
    "accelerator": "GPU"
  },
  "cells": [
    {
      "cell_type": "markdown",
      "metadata": {
        "id": "view-in-github",
        "colab_type": "text"
      },
      "source": [
        "<a href=\"https://colab.research.google.com/github/zeynep68/CIFAR100/blob/main/ResNet34.ipynb\" target=\"_parent\"><img src=\"https://colab.research.google.com/assets/colab-badge.svg\" alt=\"Open In Colab\"/></a>"
      ]
    },
    {
      "cell_type": "code",
      "metadata": {
        "id": "pURnbUXw4cU3"
      },
      "source": [
        "import torch\n",
        "import torch.nn as nn\n",
        "import torch.optim as optim\n",
        "import torch.nn.functional as F\n",
        "import matplotlib.pyplot as plt\n",
        "\n",
        "from torchvision.datasets import CIFAR100 \n",
        "from torchvision import transforms\n",
        "from torch.utils.data import DataLoader, sampler\n",
        "from torch.nn import Sequential, Conv2d, BatchNorm2d, ReLU, MaxPool2d, AvgPool2d, Softmax, Flatten"
      ],
      "execution_count": 95,
      "outputs": []
    },
    {
      "cell_type": "markdown",
      "metadata": {
        "id": "R-m9UtcD6xXP"
      },
      "source": [
        "# Load and prepare data"
      ]
    },
    {
      "cell_type": "code",
      "metadata": {
        "id": "8_HnKEa5-NpG"
      },
      "source": [
        "BATCH_SIZE = 128\n",
        "transform = transforms.Compose([transforms.ToTensor(), transforms.Normalize((0.5,), (0.5,))])"
      ],
      "execution_count": 96,
      "outputs": []
    },
    {
      "cell_type": "code",
      "metadata": {
        "id": "I5_o1Tms4kYQ",
        "outputId": "96ef2318-a7ce-47c4-b07d-6a62b8552e0f",
        "colab": {
          "base_uri": "https://localhost:8080/",
          "height": 52
        }
      },
      "source": [
        "train = CIFAR100(root='./trainset', train=True, download=True, transform=transform)\n",
        "test = CIFAR100(root='./testset', train=False, download=True, transform=transform)"
      ],
      "execution_count": 97,
      "outputs": [
        {
          "output_type": "stream",
          "text": [
            "Files already downloaded and verified\n",
            "Files already downloaded and verified\n"
          ],
          "name": "stdout"
        }
      ]
    },
    {
      "cell_type": "code",
      "metadata": {
        "id": "I3itT7po-zuZ",
        "outputId": "74292c63-8981-4ad7-bc2d-027da5d714de",
        "colab": {
          "base_uri": "https://localhost:8080/",
          "height": 35
        }
      },
      "source": [
        "len(train), len(test)"
      ],
      "execution_count": 98,
      "outputs": [
        {
          "output_type": "execute_result",
          "data": {
            "text/plain": [
              "(50000, 10000)"
            ]
          },
          "metadata": {
            "tags": []
          },
          "execution_count": 98
        }
      ]
    },
    {
      "cell_type": "code",
      "metadata": {
        "id": "dx0IMehZ7sNW"
      },
      "source": [
        "NUM_TRAIN = 49000\n",
        "train_loader = DataLoader(train, batch_size=BATCH_SIZE, sampler=sampler.SubsetRandomSampler(range(NUM_TRAIN))) # 391\n",
        "val_loader = DataLoader(train, batch_size=BATCH_SIZE, sampler=sampler.SubsetRandomSampler(range(NUM_TRAIN, 50000)))\n",
        "test_loader = DataLoader(test, batch_size=BATCH_SIZE, shuffle=False)"
      ],
      "execution_count": 99,
      "outputs": []
    },
    {
      "cell_type": "markdown",
      "metadata": {
        "id": "aQhqb1cS9_Oc"
      },
      "source": [
        "# ResNet\n"
      ]
    },
    {
      "cell_type": "code",
      "metadata": {
        "id": "rKXkq06u9jXh"
      },
      "source": [
        "class ConvolutionalModule(nn.Module):\n",
        "  def __init__(self, input_channel=64, output_channel=128):\n",
        "    super(ConvolutionalModule, self).__init__()\n",
        "    self.layer1 = Sequential(\n",
        "                    Conv2d(in_channels=input_channel, out_channels=output_channel, kernel_size=3, stride=2, padding=1),\n",
        "                    BatchNorm2d(output_channel), # über channels des outputs\n",
        "                    ReLU()\n",
        "                  )\n",
        "    self.layer2 = Sequential(\n",
        "                    Conv2d(in_channels=output_channel, out_channels=output_channel, kernel_size=3, stride=1, padding=1),\n",
        "                    BatchNorm2d(output_channel), # über channels des outputs\n",
        "                    ReLU()\n",
        "                )    \n",
        "\n",
        "    self.x_shortcut = Sequential(\n",
        "                        Conv2d(in_channels=input_channel, out_channels=output_channel, kernel_size=1, stride=2, padding=0),\n",
        "                        BatchNorm2d(output_channel),\n",
        "                        ReLU()\n",
        "                      )        \n",
        "\n",
        "  def forward(self, x):\n",
        "    return self.x_shortcut(x) + self.layer2(self.layer1(x))"
      ],
      "execution_count": 100,
      "outputs": []
    },
    {
      "cell_type": "code",
      "metadata": {
        "id": "_8JBsBgoRZa6"
      },
      "source": [
        "class IdentityModule(nn.Module):\n",
        "  def __init__(self, num_channel):\n",
        "    super(IdentityModule, self).__init__()\n",
        "    self.layer1 = Sequential(\n",
        "                    Conv2d(in_channels=num_channel, out_channels=num_channel, kernel_size=3, stride=1, padding=1),\n",
        "                    BatchNorm2d(num_channel), # über channels des outputs\n",
        "                    ReLU()\n",
        "                  )\n",
        "    self.layer2 = Sequential(\n",
        "                    Conv2d(in_channels=num_channel, out_channels=num_channel, kernel_size=3, stride=1, padding=1),\n",
        "                    BatchNorm2d(num_channel),\n",
        "                    ReLU()\n",
        "                )          \n",
        "\n",
        "  def forward(self, x):\n",
        "    return x + self.layer2(self.layer1(x))"
      ],
      "execution_count": 101,
      "outputs": []
    },
    {
      "cell_type": "code",
      "metadata": {
        "id": "VGZcxAaz-Go0"
      },
      "source": [
        "class ResNet34(nn.Module):\n",
        "  def __init__(self):\n",
        "    super(ResNet34, self).__init__()\n",
        "    self.conv1 = Sequential(\n",
        "                         Conv2d(in_channels=3, out_channels=64, kernel_size=7 ,stride=2, padding=0),\n",
        "                         BatchNorm2d(64),\n",
        "                         ReLU(),\n",
        "                         MaxPool2d(kernel_size=3, stride=2)\n",
        "                       )\n",
        "    \n",
        "    self.conv2 = Sequential(\n",
        "                   IdentityModule(64),\n",
        "                   IdentityModule(64),\n",
        "                   IdentityModule(64)\n",
        "                 )\n",
        "\n",
        "    self.conv3 = Sequential(\n",
        "                   ConvolutionalModule(),\n",
        "                   IdentityModule(128),\n",
        "                   IdentityModule(128),\n",
        "                   IdentityModule(128)\n",
        "                 )\n",
        "    \n",
        "    self.conv4 = Sequential(\n",
        "                  ConvolutionalModule(128, 256),\n",
        "                  IdentityModule(256),\n",
        "                  IdentityModule(256),\n",
        "                  IdentityModule(256),\n",
        "                  IdentityModule(256),\n",
        "                  IdentityModule(256)\n",
        "                )\n",
        "    \n",
        "    self.conv5 = Sequential(\n",
        "                   ConvolutionalModule(256, 512),\n",
        "                   IdentityModule(512),\n",
        "                   IdentityModule(512)\n",
        "                 )\n",
        "\n",
        "    self.output_layer = Sequential(\n",
        "                          AvgPool2d(kernel_size=1),\n",
        "                          Flatten(),\n",
        "                          Softmax(dim=1)\n",
        "                        )\n",
        "    \n",
        "\n",
        "  def forward(self, x):\n",
        "    y = self.conv1(x)\n",
        "    y = self.conv2(y)\n",
        "    y = self.conv3(y)\n",
        "    y = self.conv4(y)\n",
        "    y = self.conv5(y)\n",
        "    y = self.output_layer(y)\n",
        "    return y"
      ],
      "execution_count": 102,
      "outputs": []
    },
    {
      "cell_type": "markdown",
      "metadata": {
        "id": "gpUnxFvLhi9Q"
      },
      "source": [
        "# Function to check accuracy"
      ]
    },
    {
      "cell_type": "code",
      "metadata": {
        "id": "Ttlb0HX-j5Ad",
        "outputId": "10943bac-05ce-4f02-ab98-12075f88fb2f",
        "colab": {
          "base_uri": "https://localhost:8080/",
          "height": 35
        }
      },
      "source": [
        "if torch.cuda.is_available():\n",
        "    DEVICE = torch.device('cuda')\n",
        "else:\n",
        "    DEVICE = torch.device('cpu')\n",
        "\n",
        "print('using device:', DEVICE)"
      ],
      "execution_count": 103,
      "outputs": [
        {
          "output_type": "stream",
          "text": [
            "using device: cuda\n"
          ],
          "name": "stdout"
        }
      ]
    },
    {
      "cell_type": "code",
      "metadata": {
        "id": "iRn_C3h9hgt5"
      },
      "source": [
        "def check_accuracy(loader, model):\n",
        "  if loader.dataset.train:\n",
        "    print('Checking accuracy on validation set')\n",
        "  else:\n",
        "    print('Checking accuracy on test set') \n",
        "  model.eval() \n",
        "\n",
        "  num_correct = 0\n",
        "  num_samples = 0\n",
        "\n",
        "  with torch.no_grad():\n",
        "    for images, labels in loader: # durchläuft 391 mal (mit jeweils 128 Bildern)\n",
        "      images = images.to(device=DEVICE)\n",
        "      labels = labels.to(device=DEVICE)\n",
        "      scores = model(images)\n",
        "      _, predictions = scores.max(1)\n",
        "      num_correct += (predictions == labels).sum()\n",
        "      num_samples += predictions.size(0)\n",
        "    acc = float(num_correct) / num_samples\n",
        "    print('Got %d / %d correct (%.2f)' % (num_correct, num_samples, 100 * acc))"
      ],
      "execution_count": 133,
      "outputs": []
    },
    {
      "cell_type": "markdown",
      "metadata": {
        "id": "6w7HGaD0-VHz"
      },
      "source": [
        "# Training"
      ]
    },
    {
      "cell_type": "code",
      "metadata": {
        "id": "D8vXneSNgCH8"
      },
      "source": [
        "print_every = 100"
      ],
      "execution_count": 134,
      "outputs": []
    },
    {
      "cell_type": "code",
      "metadata": {
        "id": "XniN-gm4nv6j"
      },
      "source": [
        "def train(model, optimizer, epochs=30):\n",
        "\n",
        "    model = model.to(device=DEVICE)\n",
        "    for e in range(epochs):\n",
        "        for t, (images, labels) in enumerate(train_loader): # durchläuft 391 mal (mit jeweils 128 Bildern)\n",
        "            model.train() \n",
        "            images = images.to(device=DEVICE)\n",
        "            labels = labels.to(device=DEVICE)\n",
        "\n",
        "            scores = model(images)\n",
        "            loss = F.cross_entropy(scores, labels)\n",
        "\n",
        "            optimizer.zero_grad()\n",
        "            loss.backward()\n",
        "            optimizer.step()\n",
        "\n",
        "            if t % print_every == 0:\n",
        "                print('Iteration %d, loss = %.4f' % (t, loss.item()))\n",
        "                check_accuracy(val_loader, model)\n",
        "                print()"
      ],
      "execution_count": 141,
      "outputs": []
    },
    {
      "cell_type": "code",
      "metadata": {
        "id": "T-bzmK4vezQr"
      },
      "source": [
        "learning_rate = 1e-2\n",
        "model = ResNet34()\n",
        "optimizer = optim.Adam(model.parameters(), lr=learning_rate)"
      ],
      "execution_count": 144,
      "outputs": []
    },
    {
      "cell_type": "code",
      "metadata": {
        "id": "zDN6iD_pfPFB",
        "outputId": "31a64b15-56e2-464d-c92d-48df013aab36",
        "colab": {
          "base_uri": "https://localhost:8080/",
          "height": 385
        }
      },
      "source": [
        "train(model, optimizer)"
      ],
      "execution_count": 146,
      "outputs": [
        {
          "output_type": "stream",
          "text": [
            "Iteration 0, loss = 6.0746\n",
            "Checking accuracy on validation set\n",
            "Got 147 / 1000 correct (14.70)\n",
            "\n"
          ],
          "name": "stdout"
        },
        {
          "output_type": "error",
          "ename": "KeyboardInterrupt",
          "evalue": "ignored",
          "traceback": [
            "\u001b[0;31m---------------------------------------------------------------------------\u001b[0m",
            "\u001b[0;31mKeyboardInterrupt\u001b[0m                         Traceback (most recent call last)",
            "\u001b[0;32m<ipython-input-146-fdb63027ecc2>\u001b[0m in \u001b[0;36m<module>\u001b[0;34m()\u001b[0m\n\u001b[0;32m----> 1\u001b[0;31m \u001b[0mtrain\u001b[0m\u001b[0;34m(\u001b[0m\u001b[0mmodel\u001b[0m\u001b[0;34m,\u001b[0m \u001b[0moptimizer\u001b[0m\u001b[0;34m)\u001b[0m\u001b[0;34m\u001b[0m\u001b[0;34m\u001b[0m\u001b[0m\n\u001b[0m",
            "\u001b[0;32m<ipython-input-141-9647fad9eb45>\u001b[0m in \u001b[0;36mtrain\u001b[0;34m(model, optimizer, epochs)\u001b[0m\n\u001b[1;32m     13\u001b[0m             \u001b[0moptimizer\u001b[0m\u001b[0;34m.\u001b[0m\u001b[0mzero_grad\u001b[0m\u001b[0;34m(\u001b[0m\u001b[0;34m)\u001b[0m\u001b[0;34m\u001b[0m\u001b[0;34m\u001b[0m\u001b[0m\n\u001b[1;32m     14\u001b[0m             \u001b[0mloss\u001b[0m\u001b[0;34m.\u001b[0m\u001b[0mbackward\u001b[0m\u001b[0;34m(\u001b[0m\u001b[0;34m)\u001b[0m\u001b[0;34m\u001b[0m\u001b[0;34m\u001b[0m\u001b[0m\n\u001b[0;32m---> 15\u001b[0;31m             \u001b[0moptimizer\u001b[0m\u001b[0;34m.\u001b[0m\u001b[0mstep\u001b[0m\u001b[0;34m(\u001b[0m\u001b[0;34m)\u001b[0m\u001b[0;34m\u001b[0m\u001b[0;34m\u001b[0m\u001b[0m\n\u001b[0m\u001b[1;32m     16\u001b[0m \u001b[0;34m\u001b[0m\u001b[0m\n\u001b[1;32m     17\u001b[0m             \u001b[0;32mif\u001b[0m \u001b[0mt\u001b[0m \u001b[0;34m%\u001b[0m \u001b[0mprint_every\u001b[0m \u001b[0;34m==\u001b[0m \u001b[0;36m0\u001b[0m\u001b[0;34m:\u001b[0m\u001b[0;34m\u001b[0m\u001b[0;34m\u001b[0m\u001b[0m\n",
            "\u001b[0;32m/usr/local/lib/python3.6/dist-packages/torch/autograd/grad_mode.py\u001b[0m in \u001b[0;36mdecorate_context\u001b[0;34m(*args, **kwargs)\u001b[0m\n\u001b[1;32m     13\u001b[0m         \u001b[0;32mdef\u001b[0m \u001b[0mdecorate_context\u001b[0m\u001b[0;34m(\u001b[0m\u001b[0;34m*\u001b[0m\u001b[0margs\u001b[0m\u001b[0;34m,\u001b[0m \u001b[0;34m**\u001b[0m\u001b[0mkwargs\u001b[0m\u001b[0;34m)\u001b[0m\u001b[0;34m:\u001b[0m\u001b[0;34m\u001b[0m\u001b[0;34m\u001b[0m\u001b[0m\n\u001b[1;32m     14\u001b[0m             \u001b[0;32mwith\u001b[0m \u001b[0mself\u001b[0m\u001b[0;34m:\u001b[0m\u001b[0;34m\u001b[0m\u001b[0;34m\u001b[0m\u001b[0m\n\u001b[0;32m---> 15\u001b[0;31m                 \u001b[0;32mreturn\u001b[0m \u001b[0mfunc\u001b[0m\u001b[0;34m(\u001b[0m\u001b[0;34m*\u001b[0m\u001b[0margs\u001b[0m\u001b[0;34m,\u001b[0m \u001b[0;34m**\u001b[0m\u001b[0mkwargs\u001b[0m\u001b[0;34m)\u001b[0m\u001b[0;34m\u001b[0m\u001b[0;34m\u001b[0m\u001b[0m\n\u001b[0m\u001b[1;32m     16\u001b[0m         \u001b[0;32mreturn\u001b[0m \u001b[0mdecorate_context\u001b[0m\u001b[0;34m\u001b[0m\u001b[0;34m\u001b[0m\u001b[0m\n\u001b[1;32m     17\u001b[0m \u001b[0;34m\u001b[0m\u001b[0m\n",
            "\u001b[0;32m/usr/local/lib/python3.6/dist-packages/torch/optim/adam.py\u001b[0m in \u001b[0;36mstep\u001b[0;34m(self, closure)\u001b[0m\n\u001b[1;32m    109\u001b[0m                 \u001b[0mstep_size\u001b[0m \u001b[0;34m=\u001b[0m \u001b[0mgroup\u001b[0m\u001b[0;34m[\u001b[0m\u001b[0;34m'lr'\u001b[0m\u001b[0;34m]\u001b[0m \u001b[0;34m/\u001b[0m \u001b[0mbias_correction1\u001b[0m\u001b[0;34m\u001b[0m\u001b[0;34m\u001b[0m\u001b[0m\n\u001b[1;32m    110\u001b[0m \u001b[0;34m\u001b[0m\u001b[0m\n\u001b[0;32m--> 111\u001b[0;31m                 \u001b[0mp\u001b[0m\u001b[0;34m.\u001b[0m\u001b[0maddcdiv_\u001b[0m\u001b[0;34m(\u001b[0m\u001b[0mexp_avg\u001b[0m\u001b[0;34m,\u001b[0m \u001b[0mdenom\u001b[0m\u001b[0;34m,\u001b[0m \u001b[0mvalue\u001b[0m\u001b[0;34m=\u001b[0m\u001b[0;34m-\u001b[0m\u001b[0mstep_size\u001b[0m\u001b[0;34m)\u001b[0m\u001b[0;34m\u001b[0m\u001b[0;34m\u001b[0m\u001b[0m\n\u001b[0m\u001b[1;32m    112\u001b[0m \u001b[0;34m\u001b[0m\u001b[0m\n\u001b[1;32m    113\u001b[0m         \u001b[0;32mreturn\u001b[0m \u001b[0mloss\u001b[0m\u001b[0;34m\u001b[0m\u001b[0;34m\u001b[0m\u001b[0m\n",
            "\u001b[0;31mKeyboardInterrupt\u001b[0m: "
          ]
        }
      ]
    },
    {
      "cell_type": "markdown",
      "metadata": {
        "id": "seIndRkI-X8G"
      },
      "source": [
        "# Evaluating"
      ]
    },
    {
      "cell_type": "code",
      "metadata": {
        "id": "Zkyg6bjGfxVL"
      },
      "source": [
        ""
      ],
      "execution_count": null,
      "outputs": []
    }
  ]
}