{
  "nbformat": 4,
  "nbformat_minor": 0,
  "metadata": {
    "colab": {
      "name": "ResNet50.ipynb",
      "provenance": [],
      "collapsed_sections": [],
      "authorship_tag": "ABX9TyPevszCsHtDiqkWXl/Jtk9V",
      "include_colab_link": true
    },
    "kernelspec": {
      "name": "python3",
      "display_name": "Python 3"
    },
    "accelerator": "GPU",
    "widgets": {
      "application/vnd.jupyter.widget-state+json": {
        "8bc965ba5ba642edbc1ad0443a00a81c": {
          "model_module": "@jupyter-widgets/controls",
          "model_name": "HBoxModel",
          "state": {
            "_view_name": "HBoxView",
            "_dom_classes": [],
            "_model_name": "HBoxModel",
            "_view_module": "@jupyter-widgets/controls",
            "_model_module_version": "1.5.0",
            "_view_count": null,
            "_view_module_version": "1.5.0",
            "box_style": "",
            "layout": "IPY_MODEL_f18c80a26f08477eb5293f5cb3122ad2",
            "_model_module": "@jupyter-widgets/controls",
            "children": [
              "IPY_MODEL_a4da40a7ba6d4935a900539a4153603e",
              "IPY_MODEL_882237882aa049a39c7cea7bd8e87032"
            ]
          }
        },
        "f18c80a26f08477eb5293f5cb3122ad2": {
          "model_module": "@jupyter-widgets/base",
          "model_name": "LayoutModel",
          "state": {
            "_view_name": "LayoutView",
            "grid_template_rows": null,
            "right": null,
            "justify_content": null,
            "_view_module": "@jupyter-widgets/base",
            "overflow": null,
            "_model_module_version": "1.2.0",
            "_view_count": null,
            "flex_flow": null,
            "width": null,
            "min_width": null,
            "border": null,
            "align_items": null,
            "bottom": null,
            "_model_module": "@jupyter-widgets/base",
            "top": null,
            "grid_column": null,
            "overflow_y": null,
            "overflow_x": null,
            "grid_auto_flow": null,
            "grid_area": null,
            "grid_template_columns": null,
            "flex": null,
            "_model_name": "LayoutModel",
            "justify_items": null,
            "grid_row": null,
            "max_height": null,
            "align_content": null,
            "visibility": null,
            "align_self": null,
            "height": null,
            "min_height": null,
            "padding": null,
            "grid_auto_rows": null,
            "grid_gap": null,
            "max_width": null,
            "order": null,
            "_view_module_version": "1.2.0",
            "grid_template_areas": null,
            "object_position": null,
            "object_fit": null,
            "grid_auto_columns": null,
            "margin": null,
            "display": null,
            "left": null
          }
        },
        "a4da40a7ba6d4935a900539a4153603e": {
          "model_module": "@jupyter-widgets/controls",
          "model_name": "FloatProgressModel",
          "state": {
            "_view_name": "ProgressView",
            "style": "IPY_MODEL_2e87de4a52fb45cb93f2dcab7533a36e",
            "_dom_classes": [],
            "description": "",
            "_model_name": "FloatProgressModel",
            "bar_style": "info",
            "max": 1,
            "_view_module": "@jupyter-widgets/controls",
            "_model_module_version": "1.5.0",
            "value": 1,
            "_view_count": null,
            "_view_module_version": "1.5.0",
            "orientation": "horizontal",
            "min": 0,
            "description_tooltip": null,
            "_model_module": "@jupyter-widgets/controls",
            "layout": "IPY_MODEL_e0c9608594ce46d186515d7ce894ed96"
          }
        },
        "882237882aa049a39c7cea7bd8e87032": {
          "model_module": "@jupyter-widgets/controls",
          "model_name": "HTMLModel",
          "state": {
            "_view_name": "HTMLView",
            "style": "IPY_MODEL_584ea235d74a4de1a83f81b3c6d5e4a1",
            "_dom_classes": [],
            "description": "",
            "_model_name": "HTMLModel",
            "placeholder": "​",
            "_view_module": "@jupyter-widgets/controls",
            "_model_module_version": "1.5.0",
            "value": " 169009152/? [00:20&lt;00:00, 50814780.89it/s]",
            "_view_count": null,
            "_view_module_version": "1.5.0",
            "description_tooltip": null,
            "_model_module": "@jupyter-widgets/controls",
            "layout": "IPY_MODEL_d7cc5dc89c1a4a55b67d9e43828d80b8"
          }
        },
        "2e87de4a52fb45cb93f2dcab7533a36e": {
          "model_module": "@jupyter-widgets/controls",
          "model_name": "ProgressStyleModel",
          "state": {
            "_view_name": "StyleView",
            "_model_name": "ProgressStyleModel",
            "description_width": "initial",
            "_view_module": "@jupyter-widgets/base",
            "_model_module_version": "1.5.0",
            "_view_count": null,
            "_view_module_version": "1.2.0",
            "bar_color": null,
            "_model_module": "@jupyter-widgets/controls"
          }
        },
        "e0c9608594ce46d186515d7ce894ed96": {
          "model_module": "@jupyter-widgets/base",
          "model_name": "LayoutModel",
          "state": {
            "_view_name": "LayoutView",
            "grid_template_rows": null,
            "right": null,
            "justify_content": null,
            "_view_module": "@jupyter-widgets/base",
            "overflow": null,
            "_model_module_version": "1.2.0",
            "_view_count": null,
            "flex_flow": null,
            "width": null,
            "min_width": null,
            "border": null,
            "align_items": null,
            "bottom": null,
            "_model_module": "@jupyter-widgets/base",
            "top": null,
            "grid_column": null,
            "overflow_y": null,
            "overflow_x": null,
            "grid_auto_flow": null,
            "grid_area": null,
            "grid_template_columns": null,
            "flex": null,
            "_model_name": "LayoutModel",
            "justify_items": null,
            "grid_row": null,
            "max_height": null,
            "align_content": null,
            "visibility": null,
            "align_self": null,
            "height": null,
            "min_height": null,
            "padding": null,
            "grid_auto_rows": null,
            "grid_gap": null,
            "max_width": null,
            "order": null,
            "_view_module_version": "1.2.0",
            "grid_template_areas": null,
            "object_position": null,
            "object_fit": null,
            "grid_auto_columns": null,
            "margin": null,
            "display": null,
            "left": null
          }
        },
        "584ea235d74a4de1a83f81b3c6d5e4a1": {
          "model_module": "@jupyter-widgets/controls",
          "model_name": "DescriptionStyleModel",
          "state": {
            "_view_name": "StyleView",
            "_model_name": "DescriptionStyleModel",
            "description_width": "",
            "_view_module": "@jupyter-widgets/base",
            "_model_module_version": "1.5.0",
            "_view_count": null,
            "_view_module_version": "1.2.0",
            "_model_module": "@jupyter-widgets/controls"
          }
        },
        "d7cc5dc89c1a4a55b67d9e43828d80b8": {
          "model_module": "@jupyter-widgets/base",
          "model_name": "LayoutModel",
          "state": {
            "_view_name": "LayoutView",
            "grid_template_rows": null,
            "right": null,
            "justify_content": null,
            "_view_module": "@jupyter-widgets/base",
            "overflow": null,
            "_model_module_version": "1.2.0",
            "_view_count": null,
            "flex_flow": null,
            "width": null,
            "min_width": null,
            "border": null,
            "align_items": null,
            "bottom": null,
            "_model_module": "@jupyter-widgets/base",
            "top": null,
            "grid_column": null,
            "overflow_y": null,
            "overflow_x": null,
            "grid_auto_flow": null,
            "grid_area": null,
            "grid_template_columns": null,
            "flex": null,
            "_model_name": "LayoutModel",
            "justify_items": null,
            "grid_row": null,
            "max_height": null,
            "align_content": null,
            "visibility": null,
            "align_self": null,
            "height": null,
            "min_height": null,
            "padding": null,
            "grid_auto_rows": null,
            "grid_gap": null,
            "max_width": null,
            "order": null,
            "_view_module_version": "1.2.0",
            "grid_template_areas": null,
            "object_position": null,
            "object_fit": null,
            "grid_auto_columns": null,
            "margin": null,
            "display": null,
            "left": null
          }
        },
        "3f460570f0c34bb09f2ade75dd7849e2": {
          "model_module": "@jupyter-widgets/controls",
          "model_name": "HBoxModel",
          "state": {
            "_view_name": "HBoxView",
            "_dom_classes": [],
            "_model_name": "HBoxModel",
            "_view_module": "@jupyter-widgets/controls",
            "_model_module_version": "1.5.0",
            "_view_count": null,
            "_view_module_version": "1.5.0",
            "box_style": "",
            "layout": "IPY_MODEL_bc0b530739e14e318cace0b1c923117e",
            "_model_module": "@jupyter-widgets/controls",
            "children": [
              "IPY_MODEL_a42ac4eacdeb4e62ae8d9d985e488cd8",
              "IPY_MODEL_cc65b3a1b8f24daba222b2870eefde68"
            ]
          }
        },
        "bc0b530739e14e318cace0b1c923117e": {
          "model_module": "@jupyter-widgets/base",
          "model_name": "LayoutModel",
          "state": {
            "_view_name": "LayoutView",
            "grid_template_rows": null,
            "right": null,
            "justify_content": null,
            "_view_module": "@jupyter-widgets/base",
            "overflow": null,
            "_model_module_version": "1.2.0",
            "_view_count": null,
            "flex_flow": null,
            "width": null,
            "min_width": null,
            "border": null,
            "align_items": null,
            "bottom": null,
            "_model_module": "@jupyter-widgets/base",
            "top": null,
            "grid_column": null,
            "overflow_y": null,
            "overflow_x": null,
            "grid_auto_flow": null,
            "grid_area": null,
            "grid_template_columns": null,
            "flex": null,
            "_model_name": "LayoutModel",
            "justify_items": null,
            "grid_row": null,
            "max_height": null,
            "align_content": null,
            "visibility": null,
            "align_self": null,
            "height": null,
            "min_height": null,
            "padding": null,
            "grid_auto_rows": null,
            "grid_gap": null,
            "max_width": null,
            "order": null,
            "_view_module_version": "1.2.0",
            "grid_template_areas": null,
            "object_position": null,
            "object_fit": null,
            "grid_auto_columns": null,
            "margin": null,
            "display": null,
            "left": null
          }
        },
        "a42ac4eacdeb4e62ae8d9d985e488cd8": {
          "model_module": "@jupyter-widgets/controls",
          "model_name": "FloatProgressModel",
          "state": {
            "_view_name": "ProgressView",
            "style": "IPY_MODEL_e232a8924fb54db78ad4446efcbbe200",
            "_dom_classes": [],
            "description": "",
            "_model_name": "FloatProgressModel",
            "bar_style": "info",
            "max": 1,
            "_view_module": "@jupyter-widgets/controls",
            "_model_module_version": "1.5.0",
            "value": 1,
            "_view_count": null,
            "_view_module_version": "1.5.0",
            "orientation": "horizontal",
            "min": 0,
            "description_tooltip": null,
            "_model_module": "@jupyter-widgets/controls",
            "layout": "IPY_MODEL_b53d7f1366154bf58872b15cab77239f"
          }
        },
        "cc65b3a1b8f24daba222b2870eefde68": {
          "model_module": "@jupyter-widgets/controls",
          "model_name": "HTMLModel",
          "state": {
            "_view_name": "HTMLView",
            "style": "IPY_MODEL_cbead149e7724f878042b02783ed2340",
            "_dom_classes": [],
            "description": "",
            "_model_name": "HTMLModel",
            "placeholder": "​",
            "_view_module": "@jupyter-widgets/controls",
            "_model_module_version": "1.5.0",
            "value": " 169009152/? [00:23&lt;00:00, 52530875.26it/s]",
            "_view_count": null,
            "_view_module_version": "1.5.0",
            "description_tooltip": null,
            "_model_module": "@jupyter-widgets/controls",
            "layout": "IPY_MODEL_21ed9ff3d60c461481ef4b787868798c"
          }
        },
        "e232a8924fb54db78ad4446efcbbe200": {
          "model_module": "@jupyter-widgets/controls",
          "model_name": "ProgressStyleModel",
          "state": {
            "_view_name": "StyleView",
            "_model_name": "ProgressStyleModel",
            "description_width": "initial",
            "_view_module": "@jupyter-widgets/base",
            "_model_module_version": "1.5.0",
            "_view_count": null,
            "_view_module_version": "1.2.0",
            "bar_color": null,
            "_model_module": "@jupyter-widgets/controls"
          }
        },
        "b53d7f1366154bf58872b15cab77239f": {
          "model_module": "@jupyter-widgets/base",
          "model_name": "LayoutModel",
          "state": {
            "_view_name": "LayoutView",
            "grid_template_rows": null,
            "right": null,
            "justify_content": null,
            "_view_module": "@jupyter-widgets/base",
            "overflow": null,
            "_model_module_version": "1.2.0",
            "_view_count": null,
            "flex_flow": null,
            "width": null,
            "min_width": null,
            "border": null,
            "align_items": null,
            "bottom": null,
            "_model_module": "@jupyter-widgets/base",
            "top": null,
            "grid_column": null,
            "overflow_y": null,
            "overflow_x": null,
            "grid_auto_flow": null,
            "grid_area": null,
            "grid_template_columns": null,
            "flex": null,
            "_model_name": "LayoutModel",
            "justify_items": null,
            "grid_row": null,
            "max_height": null,
            "align_content": null,
            "visibility": null,
            "align_self": null,
            "height": null,
            "min_height": null,
            "padding": null,
            "grid_auto_rows": null,
            "grid_gap": null,
            "max_width": null,
            "order": null,
            "_view_module_version": "1.2.0",
            "grid_template_areas": null,
            "object_position": null,
            "object_fit": null,
            "grid_auto_columns": null,
            "margin": null,
            "display": null,
            "left": null
          }
        },
        "cbead149e7724f878042b02783ed2340": {
          "model_module": "@jupyter-widgets/controls",
          "model_name": "DescriptionStyleModel",
          "state": {
            "_view_name": "StyleView",
            "_model_name": "DescriptionStyleModel",
            "description_width": "",
            "_view_module": "@jupyter-widgets/base",
            "_model_module_version": "1.5.0",
            "_view_count": null,
            "_view_module_version": "1.2.0",
            "_model_module": "@jupyter-widgets/controls"
          }
        },
        "21ed9ff3d60c461481ef4b787868798c": {
          "model_module": "@jupyter-widgets/base",
          "model_name": "LayoutModel",
          "state": {
            "_view_name": "LayoutView",
            "grid_template_rows": null,
            "right": null,
            "justify_content": null,
            "_view_module": "@jupyter-widgets/base",
            "overflow": null,
            "_model_module_version": "1.2.0",
            "_view_count": null,
            "flex_flow": null,
            "width": null,
            "min_width": null,
            "border": null,
            "align_items": null,
            "bottom": null,
            "_model_module": "@jupyter-widgets/base",
            "top": null,
            "grid_column": null,
            "overflow_y": null,
            "overflow_x": null,
            "grid_auto_flow": null,
            "grid_area": null,
            "grid_template_columns": null,
            "flex": null,
            "_model_name": "LayoutModel",
            "justify_items": null,
            "grid_row": null,
            "max_height": null,
            "align_content": null,
            "visibility": null,
            "align_self": null,
            "height": null,
            "min_height": null,
            "padding": null,
            "grid_auto_rows": null,
            "grid_gap": null,
            "max_width": null,
            "order": null,
            "_view_module_version": "1.2.0",
            "grid_template_areas": null,
            "object_position": null,
            "object_fit": null,
            "grid_auto_columns": null,
            "margin": null,
            "display": null,
            "left": null
          }
        }
      }
    }
  },
  "cells": [
    {
      "cell_type": "markdown",
      "metadata": {
        "id": "view-in-github",
        "colab_type": "text"
      },
      "source": [
        "<a href=\"https://colab.research.google.com/github/zeynep68/CIFAR100/blob/main/ResNet50.ipynb\" target=\"_parent\"><img src=\"https://colab.research.google.com/assets/colab-badge.svg\" alt=\"Open In Colab\"/></a>"
      ]
    },
    {
      "cell_type": "code",
      "metadata": {
        "id": "RkkzCoUEd0mE"
      },
      "source": [
        "import torch\n",
        "import torch.nn as nn\n",
        "import numpy as np\n",
        "import torch.optim as optim\n",
        "import torch.nn.functional as F\n",
        "import matplotlib.pyplot as plt\n",
        "\n",
        "from torch.nn import Sequential, Conv2d, BatchNorm2d, ReLU, MaxPool2d, AvgPool2d, Softmax, Flatten\n",
        "from torchvision import transforms\n",
        "from torch.utils.data import DataLoader, sampler\n",
        "from torchvision.datasets import CIFAR100 \n",
        "from torch.optim.lr_scheduler import MultiStepLR"
      ],
      "execution_count": null,
      "outputs": []
    },
    {
      "cell_type": "markdown",
      "metadata": {
        "id": "gSLsOLIoeoQP"
      },
      "source": [
        "# Load and prepare data"
      ]
    },
    {
      "cell_type": "code",
      "metadata": {
        "id": "HXtYjwSIepQe"
      },
      "source": [
        "train_mean = torch.Tensor([0.5072, 0.4867, 0.4411])\n",
        "train_std = torch.Tensor([0.2668, 0.2559, 0.2756])\n",
        "test_mean = torch.Tensor([0.5142, 0.4928, 0.4467])\n",
        "test_std = torch.Tensor([0.2707, 0.2597, 0.2794])"
      ],
      "execution_count": null,
      "outputs": []
    },
    {
      "cell_type": "code",
      "metadata": {
        "id": "J-6CZn0serPZ"
      },
      "source": [
        "BATCH_SIZE = 128\n",
        "transform_train = transforms.Compose([transforms.ToTensor(), transforms.Normalize(train_mean, train_std)])\n",
        "transform_test = transforms.Compose([transforms.ToTensor(), transforms.Normalize(test_mean, test_std)])"
      ],
      "execution_count": null,
      "outputs": []
    },
    {
      "cell_type": "code",
      "metadata": {
        "id": "a_bdAv8kesoz",
        "outputId": "949052a2-1fa8-4f97-e9cf-677ff40bf8e1",
        "colab": {
          "base_uri": "https://localhost:8080/",
          "height": 150,
          "referenced_widgets": [
            "8bc965ba5ba642edbc1ad0443a00a81c",
            "f18c80a26f08477eb5293f5cb3122ad2",
            "a4da40a7ba6d4935a900539a4153603e",
            "882237882aa049a39c7cea7bd8e87032",
            "2e87de4a52fb45cb93f2dcab7533a36e",
            "e0c9608594ce46d186515d7ce894ed96",
            "584ea235d74a4de1a83f81b3c6d5e4a1",
            "d7cc5dc89c1a4a55b67d9e43828d80b8",
            "3f460570f0c34bb09f2ade75dd7849e2",
            "bc0b530739e14e318cace0b1c923117e",
            "a42ac4eacdeb4e62ae8d9d985e488cd8",
            "cc65b3a1b8f24daba222b2870eefde68",
            "e232a8924fb54db78ad4446efcbbe200",
            "b53d7f1366154bf58872b15cab77239f",
            "cbead149e7724f878042b02783ed2340",
            "21ed9ff3d60c461481ef4b787868798c"
          ]
        }
      },
      "source": [
        "train = CIFAR100(root='./trainset', train=True, download=True, transform=transform_train)\n",
        "test = CIFAR100(root='./testset', train=False, download=True, transform=transform_test)"
      ],
      "execution_count": null,
      "outputs": [
        {
          "output_type": "stream",
          "text": [
            "Downloading https://www.cs.toronto.edu/~kriz/cifar-100-python.tar.gz to ./trainset/cifar-100-python.tar.gz\n"
          ],
          "name": "stdout"
        },
        {
          "output_type": "display_data",
          "data": {
            "application/vnd.jupyter.widget-view+json": {
              "model_id": "8bc965ba5ba642edbc1ad0443a00a81c",
              "version_minor": 0,
              "version_major": 2
            },
            "text/plain": [
              "HBox(children=(FloatProgress(value=1.0, bar_style='info', max=1.0), HTML(value='')))"
            ]
          },
          "metadata": {
            "tags": []
          }
        },
        {
          "output_type": "stream",
          "text": [
            "Extracting ./trainset/cifar-100-python.tar.gz to ./trainset\n",
            "Downloading https://www.cs.toronto.edu/~kriz/cifar-100-python.tar.gz to ./testset/cifar-100-python.tar.gz\n"
          ],
          "name": "stdout"
        },
        {
          "output_type": "display_data",
          "data": {
            "application/vnd.jupyter.widget-view+json": {
              "model_id": "3f460570f0c34bb09f2ade75dd7849e2",
              "version_minor": 0,
              "version_major": 2
            },
            "text/plain": [
              "HBox(children=(FloatProgress(value=1.0, bar_style='info', max=1.0), HTML(value='')))"
            ]
          },
          "metadata": {
            "tags": []
          }
        },
        {
          "output_type": "stream",
          "text": [
            "Extracting ./testset/cifar-100-python.tar.gz to ./testset\n"
          ],
          "name": "stdout"
        }
      ]
    },
    {
      "cell_type": "code",
      "metadata": {
        "id": "edhx_al6et5F",
        "outputId": "2c1da382-caf1-4316-cc95-72729be1a41b",
        "colab": {
          "base_uri": "https://localhost:8080/",
          "height": 34
        }
      },
      "source": [
        "len(train), len(test)"
      ],
      "execution_count": null,
      "outputs": [
        {
          "output_type": "execute_result",
          "data": {
            "text/plain": [
              "(50000, 10000)"
            ]
          },
          "metadata": {
            "tags": []
          },
          "execution_count": 8
        }
      ]
    },
    {
      "cell_type": "code",
      "metadata": {
        "id": "eVuxh3rLevf0"
      },
      "source": [
        "NUM_TRAIN = 49000\n",
        "train_loader = DataLoader(train, batch_size=BATCH_SIZE, sampler=sampler.SubsetRandomSampler(range(NUM_TRAIN))) # 391\n",
        "val_loader = DataLoader(train, batch_size=BATCH_SIZE, sampler=sampler.SubsetRandomSampler(range(NUM_TRAIN, 50000)))\n",
        "test_loader = DataLoader(test, batch_size=BATCH_SIZE, shuffle=False)"
      ],
      "execution_count": null,
      "outputs": []
    },
    {
      "cell_type": "code",
      "metadata": {
        "id": "fRg6iTsEexNM"
      },
      "source": [
        "class ConvolutionalModule(nn.Module):\n",
        "  def __init__(self, input_channel=64, output_channel=128, stride=1, pad=0):\n",
        "    super(ConvolutionalModule, self).__init__()\n",
        "    self.layer1 = Sequential(\n",
        "                    Conv2d(in_channels=input_channel, out_channels=output_channel, kernel_size=1, stride=stride, padding=pad),\n",
        "                    BatchNorm2d(output_channel),\n",
        "                    ReLU()\n",
        "                  )\n",
        "\n",
        "    self.x_shortcut = Sequential(\n",
        "                        Conv2d(in_channels=input_channel, out_channels=output_channel, kernel_size=1, stride=stride, padding=pad),\n",
        "                        BatchNorm2d(output_channel),\n",
        "                        ReLU()\n",
        "                      )      \n",
        "\n",
        "  def forward(self, x):\n",
        "    return self.x_shortcut(x) + self.layer1(x)"
      ],
      "execution_count": null,
      "outputs": []
    },
    {
      "cell_type": "code",
      "metadata": {
        "id": "0ZkWWXj9suwQ"
      },
      "source": [
        "class ReduceModule(nn.Module):\n",
        "  def __init__(self, input_channel=64, output_channel=128):\n",
        "    super(ReduceModule, self).__init__()\n",
        "    self.layer1 = Sequential(\n",
        "                    Conv2d(in_channels=input_channel, out_channels=output_channel, kernel_size=1, stride=1, padding=0),\n",
        "                    BatchNorm2d(output_channel),\n",
        "                    ReLU()\n",
        "                  )       \n",
        "    \n",
        "  def forward(self, x):\n",
        "    return self.layer1(x)"
      ],
      "execution_count": null,
      "outputs": []
    },
    {
      "cell_type": "code",
      "metadata": {
        "id": "soP_HTF-ezPa"
      },
      "source": [
        "class BasicModule(nn.Module):\n",
        "  def __init__(self, num_channel):\n",
        "    super(BasicModule, self).__init__()\n",
        "    self.layer1 = Sequential(\n",
        "                    Conv2d(in_channels=num_channel, out_channels=num_channel, kernel_size=1, stride=1, padding=0),\n",
        "                    BatchNorm2d(num_channel),\n",
        "                    ReLU()\n",
        "                  )       \n",
        "    self.layer2 = Sequential(\n",
        "                    Conv2d(in_channels=num_channel, out_channels=num_channel, kernel_size=3, stride=1, padding=1),\n",
        "                    BatchNorm2d(num_channel),\n",
        "                    ReLU()\n",
        "                  )\n",
        "\n",
        "  def forward(self, x):\n",
        "    return self.layer2(self.layer1(x))"
      ],
      "execution_count": null,
      "outputs": []
    },
    {
      "cell_type": "code",
      "metadata": {
        "id": "yLDIsidc0Kf4"
      },
      "source": [
        "class Bottleneck(nn.Module):\n",
        "  def __init__(self, num_channel, stride=1, pad=0):\n",
        "    super(Bottleneck, self).__init__()\n",
        "    self.layer1 = Sequential(\n",
        "                    BasicModule(num_channel[1]) if num_channel[0] == num_channel[1] else ReduceModule(num_channel[0], num_channel[1])\n",
        "                  )\n",
        "    self.layer2 = Sequential(\n",
        "                    ConvolutionalModule(num_channel[1], num_channel[2], stride=stride, pad=pad))\n",
        "    \n",
        "    self.x_shortcut = Sequential(\n",
        "                        Conv2d(in_channels=num_channel[0], out_channels=num_channel[2], kernel_size=1, stride=stride, padding=pad),\n",
        "                        BatchNorm2d(num_channel[2]),\n",
        "                        ReLU()\n",
        "                      )\n",
        "\n",
        "  def forward(self, x): \n",
        "    return self.x_shortcut(x) + self.layer2(self.layer1(x))"
      ],
      "execution_count": null,
      "outputs": []
    },
    {
      "cell_type": "code",
      "metadata": {
        "id": "IIBr2FZ5e1B1"
      },
      "source": [
        "class ResNet50(nn.Module):\n",
        "  def __init__(self):\n",
        "    super(ResNet50, self).__init__()\n",
        "    self.conv1 = Sequential(\n",
        "                         Conv2d(in_channels=3, out_channels=64, kernel_size=7 ,stride=2, padding=0),\n",
        "                         BatchNorm2d(64),\n",
        "                         ReLU(),\n",
        "                         MaxPool2d(kernel_size=3, stride=2)\n",
        "                       )\n",
        "    \n",
        "    self.conv2 = Sequential(\n",
        "                   Bottleneck([64,64,256]),\n",
        "                   Bottleneck([256,64,256]),\n",
        "                   Bottleneck([256,64,256], stride=2, pad=1)\n",
        "                 )\n",
        "    \n",
        "    self.conv3 = Sequential(\n",
        "                   Bottleneck([256,128,512]),\n",
        "                   Bottleneck([512,128,512]),\n",
        "                   Bottleneck([512,128,512]),\n",
        "                   Bottleneck([512,128,512], stride=2, pad=1)\n",
        "                 )\n",
        "\n",
        "    self.conv4 = Sequential(\n",
        "                   Bottleneck([512,256,1024]),\n",
        "                   Bottleneck([1024,256,1024]),\n",
        "                   Bottleneck([1024,256,1024]),\n",
        "                   Bottleneck([1024,256,1024]),\n",
        "                   Bottleneck([1024,256,1024]),\n",
        "                   Bottleneck([1024,256,1024], stride=2, pad=1)\n",
        "                 )\n",
        "    \n",
        "    self.conv5 = Sequential(\n",
        "                   Bottleneck([1024,512,2048]),\n",
        "                   Bottleneck([2048,512,2048]),\n",
        "                   Bottleneck([2048,512,2048], stride=2, pad=1)\n",
        "                 )\n",
        "\n",
        "    self.output_layer = Sequential(\n",
        "                          AvgPool2d(kernel_size=1),\n",
        "                          Flatten(),\n",
        "                          Softmax(dim=1)\n",
        "                        )\n",
        "    \n",
        "\n",
        "  def forward(self, x):\n",
        "    y = self.conv1(x)\n",
        "    y = self.conv2(y)\n",
        "    y = self.conv3(y)\n",
        "    y = self.conv4(y)\n",
        "    y = self.conv5(y)\n",
        "    y = self.output_layer(y)\n",
        "    return y"
      ],
      "execution_count": null,
      "outputs": []
    },
    {
      "cell_type": "code",
      "metadata": {
        "id": "6zkYKA_8CYob"
      },
      "source": [
        "model = ResNet50()\n",
        "model = model.to(device=DEVICE)\n",
        "model.train() \n",
        "a = torch.randn([12,3,256,256])\n",
        "a = a.to(device=DEVICE)\n",
        "scores = model(a)"
      ],
      "execution_count": null,
      "outputs": []
    },
    {
      "cell_type": "markdown",
      "metadata": {
        "id": "Us94CDJte4jv"
      },
      "source": [
        "# Function to check accuracy"
      ]
    },
    {
      "cell_type": "code",
      "metadata": {
        "id": "l1M8p9vGe3Cq",
        "outputId": "daa6a0c9-4970-4548-fcd0-a238b22d8135",
        "colab": {
          "base_uri": "https://localhost:8080/",
          "height": 34
        }
      },
      "source": [
        "if torch.cuda.is_available():\n",
        "    DEVICE = torch.device('cuda')\n",
        "else:\n",
        "    DEVICE = torch.device('cpu')\n",
        "\n",
        "print('using device:', DEVICE)"
      ],
      "execution_count": null,
      "outputs": [
        {
          "output_type": "stream",
          "text": [
            "using device: cuda\n"
          ],
          "name": "stdout"
        }
      ]
    },
    {
      "cell_type": "code",
      "metadata": {
        "id": "cv_AmXOse6sj"
      },
      "source": [
        "def check_accuracy(loader, model):\n",
        "  if loader.dataset.train:\n",
        "    print('Checking accuracy on validation set')\n",
        "  else:\n",
        "    print('Checking accuracy on test set') \n",
        "  model.eval() \n",
        "\n",
        "  num_correct = 0\n",
        "  num_samples = 0\n",
        "\n",
        "  with torch.no_grad():\n",
        "    for images, labels in loader: # durchläuft 391 mal (mit jeweils 128 Bildern)\n",
        "      images = images.to(device=DEVICE)\n",
        "      labels = labels.to(device=DEVICE)\n",
        "      scores = model(images)\n",
        "      _, predictions = scores.max(1)\n",
        "      num_correct += (predictions == labels).sum()\n",
        "      num_samples += predictions.size(0)\n",
        "    acc = float(num_correct) / num_samples\n",
        "    print('Got %d / %d correct (%.2f)' % (num_correct, num_samples, 100 * acc))"
      ],
      "execution_count": null,
      "outputs": []
    },
    {
      "cell_type": "markdown",
      "metadata": {
        "id": "cDBpC-Y5e-e3"
      },
      "source": [
        "# Training"
      ]
    },
    {
      "cell_type": "code",
      "metadata": {
        "id": "0sidT3JLe8f-"
      },
      "source": [
        "print_every = 100"
      ],
      "execution_count": null,
      "outputs": []
    },
    {
      "cell_type": "code",
      "metadata": {
        "id": "_PlohFHqfArv"
      },
      "source": [
        "def train(model, optimizer, epochs=120):\n",
        "\n",
        "  model = model.to(device=DEVICE)\n",
        "  for epoch in range(epochs):\n",
        "    scheduler.step()\n",
        "    print('Epoch:', epoch,'LR:', scheduler.get_lr())\n",
        "    for t, (images, labels) in enumerate(train_loader): # durchläuft 391 mal (mit jeweils 128 Bildern)\n",
        "      model.train() \n",
        "      images = images.to(device=DEVICE)\n",
        "      labels = labels.to(device=DEVICE)\n",
        "      scores = model(images)\n",
        "      loss = F.cross_entropy(scores, labels)\n",
        "\n",
        "      optimizer.zero_grad()\n",
        "      loss.backward()\n",
        "      optimizer.step()\n",
        "\n",
        "      if t % print_every == 0:\n",
        "        print('Iteration %d, loss = %.4f' % (t, loss.item()))\n",
        "        check_accuracy(val_loader, model)\n",
        "        print()"
      ],
      "execution_count": null,
      "outputs": []
    },
    {
      "cell_type": "code",
      "metadata": {
        "id": "XYMYPaQgfByd"
      },
      "source": [
        "learning_rate = 1e-3\n",
        "model = ResNet50()\n",
        "optimizer = optim.Adam(model.parameters(), lr=learning_rate)\n",
        "scheduler = MultiStepLR(optimizer, milestones=[40,80, 100], gamma=0.1)"
      ],
      "execution_count": null,
      "outputs": []
    },
    {
      "cell_type": "code",
      "metadata": {
        "id": "erKXoCZvfDPs",
        "outputId": "58478b1d-0082-485b-b82b-eb2a5772f0a4",
        "colab": {
          "base_uri": "https://localhost:8080/",
          "height": 1000
        }
      },
      "source": [
        "train(model, optimizer)"
      ],
      "execution_count": null,
      "outputs": [
        {
          "output_type": "stream",
          "text": [
            "/usr/local/lib/python3.6/dist-packages/torch/optim/lr_scheduler.py:123: UserWarning: Detected call of `lr_scheduler.step()` before `optimizer.step()`. In PyTorch 1.1.0 and later, you should call them in the opposite order: `optimizer.step()` before `lr_scheduler.step()`.  Failure to do this will result in PyTorch skipping the first value of the learning rate schedule. See more details at https://pytorch.org/docs/stable/optim.html#how-to-adjust-learning-rate\n",
            "  \"https://pytorch.org/docs/stable/optim.html#how-to-adjust-learning-rate\", UserWarning)\n",
            "/usr/local/lib/python3.6/dist-packages/torch/optim/lr_scheduler.py:396: UserWarning: To get the last learning rate computed by the scheduler, please use `get_last_lr()`.\n",
            "  \"please use `get_last_lr()`.\", UserWarning)\n"
          ],
          "name": "stderr"
        },
        {
          "output_type": "stream",
          "text": [
            "Epoch: 0 LR: [0.001]\n",
            "Iteration 0, loss = 9.8219\n",
            "Checking accuracy on validation set\n",
            "Got 9 / 1000 correct (0.90)\n",
            "\n",
            "Iteration 100, loss = 9.8180\n",
            "Checking accuracy on validation set\n",
            "Got 13 / 1000 correct (1.30)\n",
            "\n",
            "Iteration 200, loss = 9.8066\n",
            "Checking accuracy on validation set\n",
            "Got 11 / 1000 correct (1.10)\n",
            "\n",
            "Iteration 300, loss = 9.8141\n",
            "Checking accuracy on validation set\n",
            "Got 22 / 1000 correct (2.20)\n",
            "\n",
            "Epoch: 1 LR: [0.001]\n",
            "Iteration 0, loss = 9.8141\n",
            "Checking accuracy on validation set\n",
            "Got 12 / 1000 correct (1.20)\n",
            "\n",
            "Iteration 100, loss = 9.8072\n",
            "Checking accuracy on validation set\n",
            "Got 13 / 1000 correct (1.30)\n",
            "\n",
            "Iteration 200, loss = 9.8149\n",
            "Checking accuracy on validation set\n",
            "Got 20 / 1000 correct (2.00)\n",
            "\n",
            "Iteration 300, loss = 9.8218\n",
            "Checking accuracy on validation set\n",
            "Got 20 / 1000 correct (2.00)\n",
            "\n",
            "Epoch: 2 LR: [0.001]\n",
            "Iteration 0, loss = 9.8219\n",
            "Checking accuracy on validation set\n",
            "Got 16 / 1000 correct (1.60)\n",
            "\n",
            "Iteration 100, loss = 9.8064\n",
            "Checking accuracy on validation set\n",
            "Got 16 / 1000 correct (1.60)\n",
            "\n",
            "Iteration 200, loss = 9.8141\n",
            "Checking accuracy on validation set\n",
            "Got 15 / 1000 correct (1.50)\n",
            "\n",
            "Iteration 300, loss = 9.7986\n",
            "Checking accuracy on validation set\n",
            "Got 15 / 1000 correct (1.50)\n",
            "\n",
            "Epoch: 3 LR: [0.001]\n",
            "Iteration 0, loss = 9.8141\n",
            "Checking accuracy on validation set\n",
            "Got 15 / 1000 correct (1.50)\n",
            "\n",
            "Iteration 100, loss = 9.8219\n",
            "Checking accuracy on validation set\n",
            "Got 16 / 1000 correct (1.60)\n",
            "\n",
            "Iteration 200, loss = 9.8219\n",
            "Checking accuracy on validation set\n",
            "Got 13 / 1000 correct (1.30)\n",
            "\n",
            "Iteration 300, loss = 9.8142\n",
            "Checking accuracy on validation set\n",
            "Got 12 / 1000 correct (1.20)\n",
            "\n",
            "Epoch: 4 LR: [0.001]\n",
            "Iteration 0, loss = 9.8140\n",
            "Checking accuracy on validation set\n",
            "Got 11 / 1000 correct (1.10)\n",
            "\n",
            "Iteration 100, loss = 9.8219\n",
            "Checking accuracy on validation set\n",
            "Got 15 / 1000 correct (1.50)\n",
            "\n",
            "Iteration 200, loss = 9.8141\n",
            "Checking accuracy on validation set\n",
            "Got 19 / 1000 correct (1.90)\n",
            "\n",
            "Iteration 300, loss = 9.7907\n",
            "Checking accuracy on validation set\n",
            "Got 20 / 1000 correct (2.00)\n",
            "\n",
            "Epoch: 5 LR: [0.001]\n",
            "Iteration 0, loss = 9.8063\n",
            "Checking accuracy on validation set\n",
            "Got 19 / 1000 correct (1.90)\n",
            "\n",
            "Iteration 100, loss = 9.8219\n",
            "Checking accuracy on validation set\n",
            "Got 8 / 1000 correct (0.80)\n",
            "\n",
            "Iteration 200, loss = 9.8064\n",
            "Checking accuracy on validation set\n",
            "Got 8 / 1000 correct (0.80)\n",
            "\n",
            "Iteration 300, loss = 9.7908\n",
            "Checking accuracy on validation set\n",
            "Got 8 / 1000 correct (0.80)\n",
            "\n"
          ],
          "name": "stdout"
        },
        {
          "output_type": "error",
          "ename": "KeyboardInterrupt",
          "evalue": "ignored",
          "traceback": [
            "\u001b[0;31m---------------------------------------------------------------------------\u001b[0m",
            "\u001b[0;31mKeyboardInterrupt\u001b[0m                         Traceback (most recent call last)",
            "\u001b[0;32m<ipython-input-100-fdb63027ecc2>\u001b[0m in \u001b[0;36m<module>\u001b[0;34m()\u001b[0m\n\u001b[0;32m----> 1\u001b[0;31m \u001b[0mtrain\u001b[0m\u001b[0;34m(\u001b[0m\u001b[0mmodel\u001b[0m\u001b[0;34m,\u001b[0m \u001b[0moptimizer\u001b[0m\u001b[0;34m)\u001b[0m\u001b[0;34m\u001b[0m\u001b[0;34m\u001b[0m\u001b[0m\n\u001b[0m",
            "\u001b[0;32m<ipython-input-98-0df8e77f9d29>\u001b[0m in \u001b[0;36mtrain\u001b[0;34m(model, optimizer, epochs)\u001b[0m\n\u001b[1;32m     14\u001b[0m       \u001b[0moptimizer\u001b[0m\u001b[0;34m.\u001b[0m\u001b[0mzero_grad\u001b[0m\u001b[0;34m(\u001b[0m\u001b[0;34m)\u001b[0m\u001b[0;34m\u001b[0m\u001b[0;34m\u001b[0m\u001b[0m\n\u001b[1;32m     15\u001b[0m       \u001b[0mloss\u001b[0m\u001b[0;34m.\u001b[0m\u001b[0mbackward\u001b[0m\u001b[0;34m(\u001b[0m\u001b[0;34m)\u001b[0m\u001b[0;34m\u001b[0m\u001b[0;34m\u001b[0m\u001b[0m\n\u001b[0;32m---> 16\u001b[0;31m       \u001b[0moptimizer\u001b[0m\u001b[0;34m.\u001b[0m\u001b[0mstep\u001b[0m\u001b[0;34m(\u001b[0m\u001b[0;34m)\u001b[0m\u001b[0;34m\u001b[0m\u001b[0;34m\u001b[0m\u001b[0m\n\u001b[0m\u001b[1;32m     17\u001b[0m \u001b[0;34m\u001b[0m\u001b[0m\n\u001b[1;32m     18\u001b[0m       \u001b[0;32mif\u001b[0m \u001b[0mt\u001b[0m \u001b[0;34m%\u001b[0m \u001b[0mprint_every\u001b[0m \u001b[0;34m==\u001b[0m \u001b[0;36m0\u001b[0m\u001b[0;34m:\u001b[0m\u001b[0;34m\u001b[0m\u001b[0;34m\u001b[0m\u001b[0m\n",
            "\u001b[0;32m/usr/local/lib/python3.6/dist-packages/torch/optim/lr_scheduler.py\u001b[0m in \u001b[0;36mwrapper\u001b[0;34m(*args, **kwargs)\u001b[0m\n\u001b[1;32m     65\u001b[0m                 \u001b[0minstance\u001b[0m\u001b[0;34m.\u001b[0m\u001b[0m_step_count\u001b[0m \u001b[0;34m+=\u001b[0m \u001b[0;36m1\u001b[0m\u001b[0;34m\u001b[0m\u001b[0;34m\u001b[0m\u001b[0m\n\u001b[1;32m     66\u001b[0m                 \u001b[0mwrapped\u001b[0m \u001b[0;34m=\u001b[0m \u001b[0mfunc\u001b[0m\u001b[0;34m.\u001b[0m\u001b[0m__get__\u001b[0m\u001b[0;34m(\u001b[0m\u001b[0minstance\u001b[0m\u001b[0;34m,\u001b[0m \u001b[0mcls\u001b[0m\u001b[0;34m)\u001b[0m\u001b[0;34m\u001b[0m\u001b[0;34m\u001b[0m\u001b[0m\n\u001b[0;32m---> 67\u001b[0;31m                 \u001b[0;32mreturn\u001b[0m \u001b[0mwrapped\u001b[0m\u001b[0;34m(\u001b[0m\u001b[0;34m*\u001b[0m\u001b[0margs\u001b[0m\u001b[0;34m,\u001b[0m \u001b[0;34m**\u001b[0m\u001b[0mkwargs\u001b[0m\u001b[0;34m)\u001b[0m\u001b[0;34m\u001b[0m\u001b[0;34m\u001b[0m\u001b[0m\n\u001b[0m\u001b[1;32m     68\u001b[0m \u001b[0;34m\u001b[0m\u001b[0m\n\u001b[1;32m     69\u001b[0m             \u001b[0;31m# Note that the returned function here is no longer a bound method,\u001b[0m\u001b[0;34m\u001b[0m\u001b[0;34m\u001b[0m\u001b[0;34m\u001b[0m\u001b[0m\n",
            "\u001b[0;32m/usr/local/lib/python3.6/dist-packages/torch/autograd/grad_mode.py\u001b[0m in \u001b[0;36mdecorate_context\u001b[0;34m(*args, **kwargs)\u001b[0m\n\u001b[1;32m     13\u001b[0m         \u001b[0;32mdef\u001b[0m \u001b[0mdecorate_context\u001b[0m\u001b[0;34m(\u001b[0m\u001b[0;34m*\u001b[0m\u001b[0margs\u001b[0m\u001b[0;34m,\u001b[0m \u001b[0;34m**\u001b[0m\u001b[0mkwargs\u001b[0m\u001b[0;34m)\u001b[0m\u001b[0;34m:\u001b[0m\u001b[0;34m\u001b[0m\u001b[0;34m\u001b[0m\u001b[0m\n\u001b[1;32m     14\u001b[0m             \u001b[0;32mwith\u001b[0m \u001b[0mself\u001b[0m\u001b[0;34m:\u001b[0m\u001b[0;34m\u001b[0m\u001b[0;34m\u001b[0m\u001b[0m\n\u001b[0;32m---> 15\u001b[0;31m                 \u001b[0;32mreturn\u001b[0m \u001b[0mfunc\u001b[0m\u001b[0;34m(\u001b[0m\u001b[0;34m*\u001b[0m\u001b[0margs\u001b[0m\u001b[0;34m,\u001b[0m \u001b[0;34m**\u001b[0m\u001b[0mkwargs\u001b[0m\u001b[0;34m)\u001b[0m\u001b[0;34m\u001b[0m\u001b[0;34m\u001b[0m\u001b[0m\n\u001b[0m\u001b[1;32m     16\u001b[0m         \u001b[0;32mreturn\u001b[0m \u001b[0mdecorate_context\u001b[0m\u001b[0;34m\u001b[0m\u001b[0;34m\u001b[0m\u001b[0m\n\u001b[1;32m     17\u001b[0m \u001b[0;34m\u001b[0m\u001b[0m\n",
            "\u001b[0;32m/usr/local/lib/python3.6/dist-packages/torch/optim/adam.py\u001b[0m in \u001b[0;36mstep\u001b[0;34m(self, closure)\u001b[0m\n\u001b[1;32m     97\u001b[0m \u001b[0;34m\u001b[0m\u001b[0m\n\u001b[1;32m     98\u001b[0m                 \u001b[0;31m# Decay the first and second moment running average coefficient\u001b[0m\u001b[0;34m\u001b[0m\u001b[0;34m\u001b[0m\u001b[0;34m\u001b[0m\u001b[0m\n\u001b[0;32m---> 99\u001b[0;31m                 \u001b[0mexp_avg\u001b[0m\u001b[0;34m.\u001b[0m\u001b[0mmul_\u001b[0m\u001b[0;34m(\u001b[0m\u001b[0mbeta1\u001b[0m\u001b[0;34m)\u001b[0m\u001b[0;34m.\u001b[0m\u001b[0madd_\u001b[0m\u001b[0;34m(\u001b[0m\u001b[0mgrad\u001b[0m\u001b[0;34m,\u001b[0m \u001b[0malpha\u001b[0m\u001b[0;34m=\u001b[0m\u001b[0;36m1\u001b[0m \u001b[0;34m-\u001b[0m \u001b[0mbeta1\u001b[0m\u001b[0;34m)\u001b[0m\u001b[0;34m\u001b[0m\u001b[0;34m\u001b[0m\u001b[0m\n\u001b[0m\u001b[1;32m    100\u001b[0m                 \u001b[0mexp_avg_sq\u001b[0m\u001b[0;34m.\u001b[0m\u001b[0mmul_\u001b[0m\u001b[0;34m(\u001b[0m\u001b[0mbeta2\u001b[0m\u001b[0;34m)\u001b[0m\u001b[0;34m.\u001b[0m\u001b[0maddcmul_\u001b[0m\u001b[0;34m(\u001b[0m\u001b[0mgrad\u001b[0m\u001b[0;34m,\u001b[0m \u001b[0mgrad\u001b[0m\u001b[0;34m,\u001b[0m \u001b[0mvalue\u001b[0m\u001b[0;34m=\u001b[0m\u001b[0;36m1\u001b[0m \u001b[0;34m-\u001b[0m \u001b[0mbeta2\u001b[0m\u001b[0;34m)\u001b[0m\u001b[0;34m\u001b[0m\u001b[0;34m\u001b[0m\u001b[0m\n\u001b[1;32m    101\u001b[0m                 \u001b[0;32mif\u001b[0m \u001b[0mamsgrad\u001b[0m\u001b[0;34m:\u001b[0m\u001b[0;34m\u001b[0m\u001b[0;34m\u001b[0m\u001b[0m\n",
            "\u001b[0;31mKeyboardInterrupt\u001b[0m: "
          ]
        }
      ]
    },
    {
      "cell_type": "code",
      "metadata": {
        "id": "Jh8MvFA0AJIT"
      },
      "source": [
        ""
      ],
      "execution_count": null,
      "outputs": []
    }
  ]
}