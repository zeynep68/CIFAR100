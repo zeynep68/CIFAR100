{
  "nbformat": 4,
  "nbformat_minor": 0,
  "metadata": {
    "colab": {
      "name": "ResNet50.ipynb",
      "provenance": [],
      "collapsed_sections": [],
      "authorship_tag": "ABX9TyP+EwRtar8COdlHH4yh8rz8",
      "include_colab_link": true
    },
    "kernelspec": {
      "name": "python3",
      "display_name": "Python 3"
    },
    "accelerator": "GPU",
    "widgets": {
      "application/vnd.jupyter.widget-state+json": {
        "269896c866ca43e8b2668f2dea1e69fb": {
          "model_module": "@jupyter-widgets/controls",
          "model_name": "HBoxModel",
          "state": {
            "_view_name": "HBoxView",
            "_dom_classes": [],
            "_model_name": "HBoxModel",
            "_view_module": "@jupyter-widgets/controls",
            "_model_module_version": "1.5.0",
            "_view_count": null,
            "_view_module_version": "1.5.0",
            "box_style": "",
            "layout": "IPY_MODEL_1e8928d02b5b441e8a8ed37966682d1f",
            "_model_module": "@jupyter-widgets/controls",
            "children": [
              "IPY_MODEL_0a331d79b3044aedaec6c4052e0f63e5",
              "IPY_MODEL_cdfb053e57624bc19ecab154e3e1ea95"
            ]
          }
        },
        "1e8928d02b5b441e8a8ed37966682d1f": {
          "model_module": "@jupyter-widgets/base",
          "model_name": "LayoutModel",
          "state": {
            "_view_name": "LayoutView",
            "grid_template_rows": null,
            "right": null,
            "justify_content": null,
            "_view_module": "@jupyter-widgets/base",
            "overflow": null,
            "_model_module_version": "1.2.0",
            "_view_count": null,
            "flex_flow": null,
            "width": null,
            "min_width": null,
            "border": null,
            "align_items": null,
            "bottom": null,
            "_model_module": "@jupyter-widgets/base",
            "top": null,
            "grid_column": null,
            "overflow_y": null,
            "overflow_x": null,
            "grid_auto_flow": null,
            "grid_area": null,
            "grid_template_columns": null,
            "flex": null,
            "_model_name": "LayoutModel",
            "justify_items": null,
            "grid_row": null,
            "max_height": null,
            "align_content": null,
            "visibility": null,
            "align_self": null,
            "height": null,
            "min_height": null,
            "padding": null,
            "grid_auto_rows": null,
            "grid_gap": null,
            "max_width": null,
            "order": null,
            "_view_module_version": "1.2.0",
            "grid_template_areas": null,
            "object_position": null,
            "object_fit": null,
            "grid_auto_columns": null,
            "margin": null,
            "display": null,
            "left": null
          }
        },
        "0a331d79b3044aedaec6c4052e0f63e5": {
          "model_module": "@jupyter-widgets/controls",
          "model_name": "FloatProgressModel",
          "state": {
            "_view_name": "ProgressView",
            "style": "IPY_MODEL_fd5d6192fe3744b0ab70c25f54baed48",
            "_dom_classes": [],
            "description": "",
            "_model_name": "FloatProgressModel",
            "bar_style": "info",
            "max": 1,
            "_view_module": "@jupyter-widgets/controls",
            "_model_module_version": "1.5.0",
            "value": 1,
            "_view_count": null,
            "_view_module_version": "1.5.0",
            "orientation": "horizontal",
            "min": 0,
            "description_tooltip": null,
            "_model_module": "@jupyter-widgets/controls",
            "layout": "IPY_MODEL_b4d04434c3f245699d7f840259b9f89c"
          }
        },
        "cdfb053e57624bc19ecab154e3e1ea95": {
          "model_module": "@jupyter-widgets/controls",
          "model_name": "HTMLModel",
          "state": {
            "_view_name": "HTMLView",
            "style": "IPY_MODEL_4c44483f2b2740bdbe00c2b466d0ebee",
            "_dom_classes": [],
            "description": "",
            "_model_name": "HTMLModel",
            "placeholder": "​",
            "_view_module": "@jupyter-widgets/controls",
            "_model_module_version": "1.5.0",
            "value": " 169009152/? [00:20&lt;00:00, 53124325.14it/s]",
            "_view_count": null,
            "_view_module_version": "1.5.0",
            "description_tooltip": null,
            "_model_module": "@jupyter-widgets/controls",
            "layout": "IPY_MODEL_ab42ae7dcabf44108d4734d5e45cfa08"
          }
        },
        "fd5d6192fe3744b0ab70c25f54baed48": {
          "model_module": "@jupyter-widgets/controls",
          "model_name": "ProgressStyleModel",
          "state": {
            "_view_name": "StyleView",
            "_model_name": "ProgressStyleModel",
            "description_width": "initial",
            "_view_module": "@jupyter-widgets/base",
            "_model_module_version": "1.5.0",
            "_view_count": null,
            "_view_module_version": "1.2.0",
            "bar_color": null,
            "_model_module": "@jupyter-widgets/controls"
          }
        },
        "b4d04434c3f245699d7f840259b9f89c": {
          "model_module": "@jupyter-widgets/base",
          "model_name": "LayoutModel",
          "state": {
            "_view_name": "LayoutView",
            "grid_template_rows": null,
            "right": null,
            "justify_content": null,
            "_view_module": "@jupyter-widgets/base",
            "overflow": null,
            "_model_module_version": "1.2.0",
            "_view_count": null,
            "flex_flow": null,
            "width": null,
            "min_width": null,
            "border": null,
            "align_items": null,
            "bottom": null,
            "_model_module": "@jupyter-widgets/base",
            "top": null,
            "grid_column": null,
            "overflow_y": null,
            "overflow_x": null,
            "grid_auto_flow": null,
            "grid_area": null,
            "grid_template_columns": null,
            "flex": null,
            "_model_name": "LayoutModel",
            "justify_items": null,
            "grid_row": null,
            "max_height": null,
            "align_content": null,
            "visibility": null,
            "align_self": null,
            "height": null,
            "min_height": null,
            "padding": null,
            "grid_auto_rows": null,
            "grid_gap": null,
            "max_width": null,
            "order": null,
            "_view_module_version": "1.2.0",
            "grid_template_areas": null,
            "object_position": null,
            "object_fit": null,
            "grid_auto_columns": null,
            "margin": null,
            "display": null,
            "left": null
          }
        },
        "4c44483f2b2740bdbe00c2b466d0ebee": {
          "model_module": "@jupyter-widgets/controls",
          "model_name": "DescriptionStyleModel",
          "state": {
            "_view_name": "StyleView",
            "_model_name": "DescriptionStyleModel",
            "description_width": "",
            "_view_module": "@jupyter-widgets/base",
            "_model_module_version": "1.5.0",
            "_view_count": null,
            "_view_module_version": "1.2.0",
            "_model_module": "@jupyter-widgets/controls"
          }
        },
        "ab42ae7dcabf44108d4734d5e45cfa08": {
          "model_module": "@jupyter-widgets/base",
          "model_name": "LayoutModel",
          "state": {
            "_view_name": "LayoutView",
            "grid_template_rows": null,
            "right": null,
            "justify_content": null,
            "_view_module": "@jupyter-widgets/base",
            "overflow": null,
            "_model_module_version": "1.2.0",
            "_view_count": null,
            "flex_flow": null,
            "width": null,
            "min_width": null,
            "border": null,
            "align_items": null,
            "bottom": null,
            "_model_module": "@jupyter-widgets/base",
            "top": null,
            "grid_column": null,
            "overflow_y": null,
            "overflow_x": null,
            "grid_auto_flow": null,
            "grid_area": null,
            "grid_template_columns": null,
            "flex": null,
            "_model_name": "LayoutModel",
            "justify_items": null,
            "grid_row": null,
            "max_height": null,
            "align_content": null,
            "visibility": null,
            "align_self": null,
            "height": null,
            "min_height": null,
            "padding": null,
            "grid_auto_rows": null,
            "grid_gap": null,
            "max_width": null,
            "order": null,
            "_view_module_version": "1.2.0",
            "grid_template_areas": null,
            "object_position": null,
            "object_fit": null,
            "grid_auto_columns": null,
            "margin": null,
            "display": null,
            "left": null
          }
        },
        "2995439fc9fb41e99cab2c89a66c7a3b": {
          "model_module": "@jupyter-widgets/controls",
          "model_name": "HBoxModel",
          "state": {
            "_view_name": "HBoxView",
            "_dom_classes": [],
            "_model_name": "HBoxModel",
            "_view_module": "@jupyter-widgets/controls",
            "_model_module_version": "1.5.0",
            "_view_count": null,
            "_view_module_version": "1.5.0",
            "box_style": "",
            "layout": "IPY_MODEL_dc504d9845954068a1b777d7b2bd1b81",
            "_model_module": "@jupyter-widgets/controls",
            "children": [
              "IPY_MODEL_313f23197e094ec58e30af6250c88ae7",
              "IPY_MODEL_e601ed1e22bf463e86c5e8b55c417449"
            ]
          }
        },
        "dc504d9845954068a1b777d7b2bd1b81": {
          "model_module": "@jupyter-widgets/base",
          "model_name": "LayoutModel",
          "state": {
            "_view_name": "LayoutView",
            "grid_template_rows": null,
            "right": null,
            "justify_content": null,
            "_view_module": "@jupyter-widgets/base",
            "overflow": null,
            "_model_module_version": "1.2.0",
            "_view_count": null,
            "flex_flow": null,
            "width": null,
            "min_width": null,
            "border": null,
            "align_items": null,
            "bottom": null,
            "_model_module": "@jupyter-widgets/base",
            "top": null,
            "grid_column": null,
            "overflow_y": null,
            "overflow_x": null,
            "grid_auto_flow": null,
            "grid_area": null,
            "grid_template_columns": null,
            "flex": null,
            "_model_name": "LayoutModel",
            "justify_items": null,
            "grid_row": null,
            "max_height": null,
            "align_content": null,
            "visibility": null,
            "align_self": null,
            "height": null,
            "min_height": null,
            "padding": null,
            "grid_auto_rows": null,
            "grid_gap": null,
            "max_width": null,
            "order": null,
            "_view_module_version": "1.2.0",
            "grid_template_areas": null,
            "object_position": null,
            "object_fit": null,
            "grid_auto_columns": null,
            "margin": null,
            "display": null,
            "left": null
          }
        },
        "313f23197e094ec58e30af6250c88ae7": {
          "model_module": "@jupyter-widgets/controls",
          "model_name": "FloatProgressModel",
          "state": {
            "_view_name": "ProgressView",
            "style": "IPY_MODEL_873c8a50e11d4e77855fa70a3bd51e09",
            "_dom_classes": [],
            "description": "",
            "_model_name": "FloatProgressModel",
            "bar_style": "info",
            "max": 1,
            "_view_module": "@jupyter-widgets/controls",
            "_model_module_version": "1.5.0",
            "value": 1,
            "_view_count": null,
            "_view_module_version": "1.5.0",
            "orientation": "horizontal",
            "min": 0,
            "description_tooltip": null,
            "_model_module": "@jupyter-widgets/controls",
            "layout": "IPY_MODEL_9cd19964822e4e33aa76867c5b4e5bdc"
          }
        },
        "e601ed1e22bf463e86c5e8b55c417449": {
          "model_module": "@jupyter-widgets/controls",
          "model_name": "HTMLModel",
          "state": {
            "_view_name": "HTMLView",
            "style": "IPY_MODEL_fad10baadf9c4dcd867eb1fd20cdabc5",
            "_dom_classes": [],
            "description": "",
            "_model_name": "HTMLModel",
            "placeholder": "​",
            "_view_module": "@jupyter-widgets/controls",
            "_model_module_version": "1.5.0",
            "value": " 169009152/? [00:23&lt;00:00, 53876088.35it/s]",
            "_view_count": null,
            "_view_module_version": "1.5.0",
            "description_tooltip": null,
            "_model_module": "@jupyter-widgets/controls",
            "layout": "IPY_MODEL_58473aefe7f0442d90c563af01d59562"
          }
        },
        "873c8a50e11d4e77855fa70a3bd51e09": {
          "model_module": "@jupyter-widgets/controls",
          "model_name": "ProgressStyleModel",
          "state": {
            "_view_name": "StyleView",
            "_model_name": "ProgressStyleModel",
            "description_width": "initial",
            "_view_module": "@jupyter-widgets/base",
            "_model_module_version": "1.5.0",
            "_view_count": null,
            "_view_module_version": "1.2.0",
            "bar_color": null,
            "_model_module": "@jupyter-widgets/controls"
          }
        },
        "9cd19964822e4e33aa76867c5b4e5bdc": {
          "model_module": "@jupyter-widgets/base",
          "model_name": "LayoutModel",
          "state": {
            "_view_name": "LayoutView",
            "grid_template_rows": null,
            "right": null,
            "justify_content": null,
            "_view_module": "@jupyter-widgets/base",
            "overflow": null,
            "_model_module_version": "1.2.0",
            "_view_count": null,
            "flex_flow": null,
            "width": null,
            "min_width": null,
            "border": null,
            "align_items": null,
            "bottom": null,
            "_model_module": "@jupyter-widgets/base",
            "top": null,
            "grid_column": null,
            "overflow_y": null,
            "overflow_x": null,
            "grid_auto_flow": null,
            "grid_area": null,
            "grid_template_columns": null,
            "flex": null,
            "_model_name": "LayoutModel",
            "justify_items": null,
            "grid_row": null,
            "max_height": null,
            "align_content": null,
            "visibility": null,
            "align_self": null,
            "height": null,
            "min_height": null,
            "padding": null,
            "grid_auto_rows": null,
            "grid_gap": null,
            "max_width": null,
            "order": null,
            "_view_module_version": "1.2.0",
            "grid_template_areas": null,
            "object_position": null,
            "object_fit": null,
            "grid_auto_columns": null,
            "margin": null,
            "display": null,
            "left": null
          }
        },
        "fad10baadf9c4dcd867eb1fd20cdabc5": {
          "model_module": "@jupyter-widgets/controls",
          "model_name": "DescriptionStyleModel",
          "state": {
            "_view_name": "StyleView",
            "_model_name": "DescriptionStyleModel",
            "description_width": "",
            "_view_module": "@jupyter-widgets/base",
            "_model_module_version": "1.5.0",
            "_view_count": null,
            "_view_module_version": "1.2.0",
            "_model_module": "@jupyter-widgets/controls"
          }
        },
        "58473aefe7f0442d90c563af01d59562": {
          "model_module": "@jupyter-widgets/base",
          "model_name": "LayoutModel",
          "state": {
            "_view_name": "LayoutView",
            "grid_template_rows": null,
            "right": null,
            "justify_content": null,
            "_view_module": "@jupyter-widgets/base",
            "overflow": null,
            "_model_module_version": "1.2.0",
            "_view_count": null,
            "flex_flow": null,
            "width": null,
            "min_width": null,
            "border": null,
            "align_items": null,
            "bottom": null,
            "_model_module": "@jupyter-widgets/base",
            "top": null,
            "grid_column": null,
            "overflow_y": null,
            "overflow_x": null,
            "grid_auto_flow": null,
            "grid_area": null,
            "grid_template_columns": null,
            "flex": null,
            "_model_name": "LayoutModel",
            "justify_items": null,
            "grid_row": null,
            "max_height": null,
            "align_content": null,
            "visibility": null,
            "align_self": null,
            "height": null,
            "min_height": null,
            "padding": null,
            "grid_auto_rows": null,
            "grid_gap": null,
            "max_width": null,
            "order": null,
            "_view_module_version": "1.2.0",
            "grid_template_areas": null,
            "object_position": null,
            "object_fit": null,
            "grid_auto_columns": null,
            "margin": null,
            "display": null,
            "left": null
          }
        }
      }
    }
  },
  "cells": [
    {
      "cell_type": "markdown",
      "metadata": {
        "id": "view-in-github",
        "colab_type": "text"
      },
      "source": [
        "<a href=\"https://colab.research.google.com/github/zeynep68/CIFAR100/blob/main/ResNet50.ipynb\" target=\"_parent\"><img src=\"https://colab.research.google.com/assets/colab-badge.svg\" alt=\"Open In Colab\"/></a>"
      ]
    },
    {
      "cell_type": "code",
      "metadata": {
        "id": "RkkzCoUEd0mE"
      },
      "source": [
        "import torch\n",
        "import torch.nn as nn\n",
        "import numpy as np\n",
        "import torch.optim as optim\n",
        "import torch.nn.functional as F\n",
        "import matplotlib.pyplot as plt\n",
        "\n",
        "from torch.nn import Sequential, Conv2d, BatchNorm2d, ReLU, MaxPool2d, AvgPool2d, Softmax, Flatten\n",
        "from torchvision import transforms\n",
        "from torch.utils.data import DataLoader, sampler\n",
        "from torchvision.datasets import CIFAR100 \n",
        "from torch.optim.lr_scheduler import MultiStepLR"
      ],
      "execution_count": 1,
      "outputs": []
    },
    {
      "cell_type": "markdown",
      "metadata": {
        "id": "gSLsOLIoeoQP"
      },
      "source": [
        "# Load and prepare data"
      ]
    },
    {
      "cell_type": "code",
      "metadata": {
        "id": "HXtYjwSIepQe"
      },
      "source": [
        "train_mean = torch.Tensor([0.5072, 0.4867, 0.4411])\n",
        "train_std = torch.Tensor([0.2668, 0.2559, 0.2756])\n",
        "test_mean = torch.Tensor([0.5142, 0.4928, 0.4467])\n",
        "test_std = torch.Tensor([0.2707, 0.2597, 0.2794])"
      ],
      "execution_count": 2,
      "outputs": []
    },
    {
      "cell_type": "code",
      "metadata": {
        "id": "J-6CZn0serPZ"
      },
      "source": [
        "BATCH_SIZE = 128\n",
        "transform_train = transforms.Compose([transforms.ToTensor(), transforms.Normalize(train_mean, train_std)])\n",
        "transform_test = transforms.Compose([transforms.ToTensor(), transforms.Normalize(test_mean, test_std)])"
      ],
      "execution_count": 3,
      "outputs": []
    },
    {
      "cell_type": "code",
      "metadata": {
        "id": "a_bdAv8kesoz",
        "outputId": "fb531e4f-7ddb-4459-cb71-40cd5edd9ed2",
        "colab": {
          "base_uri": "https://localhost:8080/",
          "height": 150,
          "referenced_widgets": [
            "269896c866ca43e8b2668f2dea1e69fb",
            "1e8928d02b5b441e8a8ed37966682d1f",
            "0a331d79b3044aedaec6c4052e0f63e5",
            "cdfb053e57624bc19ecab154e3e1ea95",
            "fd5d6192fe3744b0ab70c25f54baed48",
            "b4d04434c3f245699d7f840259b9f89c",
            "4c44483f2b2740bdbe00c2b466d0ebee",
            "ab42ae7dcabf44108d4734d5e45cfa08",
            "2995439fc9fb41e99cab2c89a66c7a3b",
            "dc504d9845954068a1b777d7b2bd1b81",
            "313f23197e094ec58e30af6250c88ae7",
            "e601ed1e22bf463e86c5e8b55c417449",
            "873c8a50e11d4e77855fa70a3bd51e09",
            "9cd19964822e4e33aa76867c5b4e5bdc",
            "fad10baadf9c4dcd867eb1fd20cdabc5",
            "58473aefe7f0442d90c563af01d59562"
          ]
        }
      },
      "source": [
        "train = CIFAR100(root='./trainset', train=True, download=True, transform=transform_train)\n",
        "test = CIFAR100(root='./testset', train=False, download=True, transform=transform_test)"
      ],
      "execution_count": 4,
      "outputs": [
        {
          "output_type": "stream",
          "text": [
            "Downloading https://www.cs.toronto.edu/~kriz/cifar-100-python.tar.gz to ./trainset/cifar-100-python.tar.gz\n"
          ],
          "name": "stdout"
        },
        {
          "output_type": "display_data",
          "data": {
            "application/vnd.jupyter.widget-view+json": {
              "model_id": "269896c866ca43e8b2668f2dea1e69fb",
              "version_minor": 0,
              "version_major": 2
            },
            "text/plain": [
              "HBox(children=(FloatProgress(value=1.0, bar_style='info', max=1.0), HTML(value='')))"
            ]
          },
          "metadata": {
            "tags": []
          }
        },
        {
          "output_type": "stream",
          "text": [
            "Extracting ./trainset/cifar-100-python.tar.gz to ./trainset\n",
            "Downloading https://www.cs.toronto.edu/~kriz/cifar-100-python.tar.gz to ./testset/cifar-100-python.tar.gz\n"
          ],
          "name": "stdout"
        },
        {
          "output_type": "display_data",
          "data": {
            "application/vnd.jupyter.widget-view+json": {
              "model_id": "2995439fc9fb41e99cab2c89a66c7a3b",
              "version_minor": 0,
              "version_major": 2
            },
            "text/plain": [
              "HBox(children=(FloatProgress(value=1.0, bar_style='info', max=1.0), HTML(value='')))"
            ]
          },
          "metadata": {
            "tags": []
          }
        },
        {
          "output_type": "stream",
          "text": [
            "Extracting ./testset/cifar-100-python.tar.gz to ./testset\n"
          ],
          "name": "stdout"
        }
      ]
    },
    {
      "cell_type": "code",
      "metadata": {
        "id": "edhx_al6et5F",
        "outputId": "2cd7fd9d-6c10-42c0-d454-2788d8e605d8",
        "colab": {
          "base_uri": "https://localhost:8080/",
          "height": 34
        }
      },
      "source": [
        "len(train), len(test)"
      ],
      "execution_count": 5,
      "outputs": [
        {
          "output_type": "execute_result",
          "data": {
            "text/plain": [
              "(50000, 10000)"
            ]
          },
          "metadata": {
            "tags": []
          },
          "execution_count": 5
        }
      ]
    },
    {
      "cell_type": "code",
      "metadata": {
        "id": "eVuxh3rLevf0"
      },
      "source": [
        "NUM_TRAIN = 49000\n",
        "train_loader = DataLoader(train, batch_size=BATCH_SIZE, sampler=sampler.SubsetRandomSampler(range(NUM_TRAIN))) # 391\n",
        "val_loader = DataLoader(train, batch_size=BATCH_SIZE, sampler=sampler.SubsetRandomSampler(range(NUM_TRAIN, 50000)))\n",
        "test_loader = DataLoader(test, batch_size=BATCH_SIZE, shuffle=False)"
      ],
      "execution_count": 6,
      "outputs": []
    },
    {
      "cell_type": "code",
      "metadata": {
        "id": "fRg6iTsEexNM"
      },
      "source": [
        "class ConvolutionalModule(nn.Module):\n",
        "  def __init__(self, input_channel=64, output_channel=128, stride=1, pad=0):\n",
        "    super(ConvolutionalModule, self).__init__()\n",
        "    self.layer1 = Sequential(\n",
        "                    Conv2d(in_channels=input_channel, out_channels=output_channel, kernel_size=1, stride=stride, padding=pad),\n",
        "                    BatchNorm2d(output_channel),\n",
        "                    ReLU()\n",
        "                  )\n",
        "\n",
        "    self.x_shortcut = Sequential(\n",
        "                        Conv2d(in_channels=input_channel, out_channels=output_channel, kernel_size=1, stride=stride, padding=pad),\n",
        "                        BatchNorm2d(output_channel),\n",
        "                        ReLU()\n",
        "                      )      \n",
        "\n",
        "  def forward(self, x):\n",
        "    return self.layer1(x)"
      ],
      "execution_count": 29,
      "outputs": []
    },
    {
      "cell_type": "code",
      "metadata": {
        "id": "0ZkWWXj9suwQ"
      },
      "source": [
        "class ReduceModule(nn.Module):\n",
        "  def __init__(self, input_channel=64, output_channel=128):\n",
        "    super(ReduceModule, self).__init__()\n",
        "    self.layer1 = Sequential(\n",
        "                    Conv2d(in_channels=input_channel, out_channels=output_channel, kernel_size=1, stride=1, padding=0),\n",
        "                    BatchNorm2d(output_channel),\n",
        "                    ReLU()\n",
        "                  )       \n",
        "    \n",
        "  def forward(self, x):\n",
        "    return self.layer1(x)"
      ],
      "execution_count": 8,
      "outputs": []
    },
    {
      "cell_type": "code",
      "metadata": {
        "id": "soP_HTF-ezPa"
      },
      "source": [
        "class BasicModule(nn.Module):\n",
        "  def __init__(self, num_channel):\n",
        "    super(BasicModule, self).__init__()\n",
        "    self.layer1 = Sequential(\n",
        "                    Conv2d(in_channels=num_channel, out_channels=num_channel, kernel_size=1, stride=1, padding=0),\n",
        "                    BatchNorm2d(num_channel),\n",
        "                    ReLU()\n",
        "                  )       \n",
        "    self.layer2 = Sequential(\n",
        "                    Conv2d(in_channels=num_channel, out_channels=num_channel, kernel_size=3, stride=1, padding=1),\n",
        "                    BatchNorm2d(num_channel),\n",
        "                    ReLU()\n",
        "                  )\n",
        "\n",
        "  def forward(self, x):\n",
        "    return self.layer2(self.layer1(x))"
      ],
      "execution_count": 9,
      "outputs": []
    },
    {
      "cell_type": "code",
      "metadata": {
        "id": "yLDIsidc0Kf4"
      },
      "source": [
        "class Bottleneck(nn.Module):\n",
        "  def __init__(self, num_channel, stride=1, pad=0):\n",
        "    super(Bottleneck, self).__init__()\n",
        "    self.layer1 = Sequential(\n",
        "                    BasicModule(num_channel[1]) if num_channel[0] == num_channel[1] else ReduceModule(num_channel[0], num_channel[1])\n",
        "                  )\n",
        "    self.layer2 = Sequential(\n",
        "                    ConvolutionalModule(num_channel[1], num_channel[2], stride=stride, pad=pad))\n",
        "    \n",
        "    self.x_shortcut = Sequential(\n",
        "                        Conv2d(in_channels=num_channel[0], out_channels=num_channel[2], kernel_size=1, stride=stride, padding=pad),\n",
        "                        BatchNorm2d(num_channel[2]),\n",
        "                        ReLU()\n",
        "                      )\n",
        "\n",
        "  def forward(self, x): \n",
        "    return self.x_shortcut(x) + self.layer2(self.layer1(x))"
      ],
      "execution_count": 10,
      "outputs": []
    },
    {
      "cell_type": "code",
      "metadata": {
        "id": "IIBr2FZ5e1B1"
      },
      "source": [
        "class ResNet50(nn.Module):\n",
        "  def __init__(self):\n",
        "    super(ResNet50, self).__init__()\n",
        "    self.conv1 = Sequential(\n",
        "                         Conv2d(in_channels=3, out_channels=64, kernel_size=7, stride=2, padding=0),\n",
        "                         BatchNorm2d(64),\n",
        "                         ReLU(),\n",
        "                         MaxPool2d(kernel_size=3, stride=2)\n",
        "                       )\n",
        "    \n",
        "    self.conv2 = Sequential(\n",
        "                   Bottleneck([64,64,256]),\n",
        "                   Bottleneck([256,64,256]),\n",
        "                   Bottleneck([256,64,256], stride=2, pad=1)\n",
        "                 )\n",
        "    \n",
        "    self.conv3 = Sequential(\n",
        "                   Bottleneck([256,128,512]),\n",
        "                   Bottleneck([512,128,512]),\n",
        "                   Bottleneck([512,128,512]),\n",
        "                   Bottleneck([512,128,512], stride=2, pad=1)\n",
        "                 )\n",
        "\n",
        "    self.conv4 = Sequential(\n",
        "                   Bottleneck([512,256,1024]),\n",
        "                   Bottleneck([1024,256,1024]),\n",
        "                   Bottleneck([1024,256,1024]),\n",
        "                   Bottleneck([1024,256,1024]),\n",
        "                   Bottleneck([1024,256,1024]),\n",
        "                   Bottleneck([1024,256,1024], stride=2, pad=1)\n",
        "                 )\n",
        "    \n",
        "    self.conv5 = Sequential(\n",
        "                   Bottleneck([1024,512,2048]),\n",
        "                   Bottleneck([2048,512,2048]),\n",
        "                   Bottleneck([2048,512,2048], stride=2, pad=1)\n",
        "                 )\n",
        "\n",
        "    self.output_layer = Sequential(\n",
        "                          AvgPool2d(kernel_size=1),\n",
        "                          Flatten(),\n",
        "                          Softmax(dim=1)\n",
        "                        )\n",
        "    \n",
        "\n",
        "  def forward(self, x):\n",
        "    y = self.conv1(x)\n",
        "    y = self.conv2(y)\n",
        "    y = self.conv3(y)\n",
        "    y = self.conv4(y)\n",
        "    y = self.conv5(y)\n",
        "    y = self.output_layer(y)\n",
        "    return y"
      ],
      "execution_count": 21,
      "outputs": []
    },
    {
      "cell_type": "code",
      "metadata": {
        "id": "6zkYKA_8CYob"
      },
      "source": [
        "model = ResNet50()\n",
        "model = model.to(device=DEVICE)\n",
        "model.train() \n",
        "a = torch.randn([12,3,256,256])\n",
        "a = a.to(device=DEVICE)\n",
        "scores = model(a)"
      ],
      "execution_count": 22,
      "outputs": []
    },
    {
      "cell_type": "markdown",
      "metadata": {
        "id": "Us94CDJte4jv"
      },
      "source": [
        "# Function to check accuracy"
      ]
    },
    {
      "cell_type": "code",
      "metadata": {
        "id": "l1M8p9vGe3Cq",
        "outputId": "261fa11a-8efc-49d3-8595-586aee1e82eb",
        "colab": {
          "base_uri": "https://localhost:8080/",
          "height": 34
        }
      },
      "source": [
        "if torch.cuda.is_available():\n",
        "    DEVICE = torch.device('cuda')\n",
        "else:\n",
        "    DEVICE = torch.device('cpu')\n",
        "\n",
        "print('using device:', DEVICE)"
      ],
      "execution_count": 23,
      "outputs": [
        {
          "output_type": "stream",
          "text": [
            "using device: cuda\n"
          ],
          "name": "stdout"
        }
      ]
    },
    {
      "cell_type": "code",
      "metadata": {
        "id": "cv_AmXOse6sj"
      },
      "source": [
        "def check_accuracy(loader, model):\n",
        "  if loader.dataset.train:\n",
        "    print('Checking accuracy on validation set')\n",
        "  else:\n",
        "    print('Checking accuracy on test set') \n",
        "  model.eval() \n",
        "\n",
        "  num_correct = 0\n",
        "  num_samples = 0\n",
        "\n",
        "  with torch.no_grad():\n",
        "    for images, labels in loader: # durchläuft 391 mal (mit jeweils 128 Bildern)\n",
        "      images = images.to(device=DEVICE)\n",
        "      labels = labels.to(device=DEVICE)\n",
        "      scores = model(images)\n",
        "      _, predictions = scores.max(1)\n",
        "      num_correct += (predictions == labels).sum()\n",
        "      num_samples += predictions.size(0)\n",
        "    acc = float(num_correct) / num_samples\n",
        "    print('Got %d / %d correct (%.2f)' % (num_correct, num_samples, 100 * acc))"
      ],
      "execution_count": 24,
      "outputs": []
    },
    {
      "cell_type": "markdown",
      "metadata": {
        "id": "cDBpC-Y5e-e3"
      },
      "source": [
        "# Training"
      ]
    },
    {
      "cell_type": "code",
      "metadata": {
        "id": "0sidT3JLe8f-"
      },
      "source": [
        "print_every = 100"
      ],
      "execution_count": 25,
      "outputs": []
    },
    {
      "cell_type": "code",
      "metadata": {
        "id": "_PlohFHqfArv"
      },
      "source": [
        "def train(model, optimizer, epochs=120):\n",
        "\n",
        "  model = model.to(device=DEVICE)\n",
        "  for epoch in range(epochs):\n",
        "    scheduler.step()\n",
        "    print('Epoch:', epoch,'LR:', scheduler.get_lr())\n",
        "    for t, (images, labels) in enumerate(train_loader): # durchläuft 391 mal (mit jeweils 128 Bildern)\n",
        "      model.train() \n",
        "      images = images.to(device=DEVICE)\n",
        "      labels = labels.to(device=DEVICE)\n",
        "      scores = model(images)\n",
        "      loss = F.cross_entropy(scores, labels)\n",
        "\n",
        "      optimizer.zero_grad()\n",
        "      loss.backward()\n",
        "      optimizer.step()\n",
        "\n",
        "      if t % print_every == 0:\n",
        "        print('Iteration %d, loss = %.4f' % (t, loss.item()))\n",
        "        check_accuracy(val_loader, model)\n",
        "        print()"
      ],
      "execution_count": 26,
      "outputs": []
    },
    {
      "cell_type": "code",
      "metadata": {
        "id": "XYMYPaQgfByd"
      },
      "source": [
        "learning_rate = 1e-3\n",
        "model = ResNet50()\n",
        "optimizer = optim.Adam(model.parameters(), lr=learning_rate)\n",
        "scheduler = MultiStepLR(optimizer, milestones=[40,80, 100], gamma=0.1)"
      ],
      "execution_count": 27,
      "outputs": []
    },
    {
      "cell_type": "code",
      "metadata": {
        "id": "erKXoCZvfDPs",
        "outputId": "61dd5599-0667-4bef-8b3a-f21723fa2e5d",
        "colab": {
          "base_uri": "https://localhost:8080/",
          "height": 782
        }
      },
      "source": [
        "train(model, optimizer)"
      ],
      "execution_count": 28,
      "outputs": [
        {
          "output_type": "stream",
          "text": [
            "/usr/local/lib/python3.6/dist-packages/torch/optim/lr_scheduler.py:123: UserWarning: Detected call of `lr_scheduler.step()` before `optimizer.step()`. In PyTorch 1.1.0 and later, you should call them in the opposite order: `optimizer.step()` before `lr_scheduler.step()`.  Failure to do this will result in PyTorch skipping the first value of the learning rate schedule. See more details at https://pytorch.org/docs/stable/optim.html#how-to-adjust-learning-rate\n",
            "  \"https://pytorch.org/docs/stable/optim.html#how-to-adjust-learning-rate\", UserWarning)\n",
            "/usr/local/lib/python3.6/dist-packages/torch/optim/lr_scheduler.py:396: UserWarning: To get the last learning rate computed by the scheduler, please use `get_last_lr()`.\n",
            "  \"please use `get_last_lr()`.\", UserWarning)\n"
          ],
          "name": "stderr"
        },
        {
          "output_type": "stream",
          "text": [
            "Epoch: 0 LR: [0.001]\n",
            "Iteration 0, loss = 9.8219\n",
            "Checking accuracy on validation set\n",
            "Got 0 / 1000 correct (0.00)\n",
            "\n",
            "Iteration 100, loss = 9.8218\n",
            "Checking accuracy on validation set\n",
            "Got 0 / 1000 correct (0.00)\n",
            "\n",
            "Iteration 200, loss = 9.8218\n",
            "Checking accuracy on validation set\n",
            "Got 11 / 1000 correct (1.10)\n",
            "\n",
            "Iteration 300, loss = 9.8218\n",
            "Checking accuracy on validation set\n",
            "Got 1 / 1000 correct (0.10)\n",
            "\n",
            "Epoch: 1 LR: [0.001]\n",
            "Iteration 0, loss = 9.8216\n",
            "Checking accuracy on validation set\n",
            "Got 9 / 1000 correct (0.90)\n",
            "\n"
          ],
          "name": "stdout"
        },
        {
          "output_type": "error",
          "ename": "KeyboardInterrupt",
          "evalue": "ignored",
          "traceback": [
            "\u001b[0;31m---------------------------------------------------------------------------\u001b[0m",
            "\u001b[0;31mKeyboardInterrupt\u001b[0m                         Traceback (most recent call last)",
            "\u001b[0;32m<ipython-input-28-fdb63027ecc2>\u001b[0m in \u001b[0;36m<module>\u001b[0;34m()\u001b[0m\n\u001b[0;32m----> 1\u001b[0;31m \u001b[0mtrain\u001b[0m\u001b[0;34m(\u001b[0m\u001b[0mmodel\u001b[0m\u001b[0;34m,\u001b[0m \u001b[0moptimizer\u001b[0m\u001b[0;34m)\u001b[0m\u001b[0;34m\u001b[0m\u001b[0;34m\u001b[0m\u001b[0m\n\u001b[0m",
            "\u001b[0;32m<ipython-input-26-0df8e77f9d29>\u001b[0m in \u001b[0;36mtrain\u001b[0;34m(model, optimizer, epochs)\u001b[0m\n\u001b[1;32m     14\u001b[0m       \u001b[0moptimizer\u001b[0m\u001b[0;34m.\u001b[0m\u001b[0mzero_grad\u001b[0m\u001b[0;34m(\u001b[0m\u001b[0;34m)\u001b[0m\u001b[0;34m\u001b[0m\u001b[0;34m\u001b[0m\u001b[0m\n\u001b[1;32m     15\u001b[0m       \u001b[0mloss\u001b[0m\u001b[0;34m.\u001b[0m\u001b[0mbackward\u001b[0m\u001b[0;34m(\u001b[0m\u001b[0;34m)\u001b[0m\u001b[0;34m\u001b[0m\u001b[0;34m\u001b[0m\u001b[0m\n\u001b[0;32m---> 16\u001b[0;31m       \u001b[0moptimizer\u001b[0m\u001b[0;34m.\u001b[0m\u001b[0mstep\u001b[0m\u001b[0;34m(\u001b[0m\u001b[0;34m)\u001b[0m\u001b[0;34m\u001b[0m\u001b[0;34m\u001b[0m\u001b[0m\n\u001b[0m\u001b[1;32m     17\u001b[0m \u001b[0;34m\u001b[0m\u001b[0m\n\u001b[1;32m     18\u001b[0m       \u001b[0;32mif\u001b[0m \u001b[0mt\u001b[0m \u001b[0;34m%\u001b[0m \u001b[0mprint_every\u001b[0m \u001b[0;34m==\u001b[0m \u001b[0;36m0\u001b[0m\u001b[0;34m:\u001b[0m\u001b[0;34m\u001b[0m\u001b[0;34m\u001b[0m\u001b[0m\n",
            "\u001b[0;32m/usr/local/lib/python3.6/dist-packages/torch/optim/lr_scheduler.py\u001b[0m in \u001b[0;36mwrapper\u001b[0;34m(*args, **kwargs)\u001b[0m\n\u001b[1;32m     65\u001b[0m                 \u001b[0minstance\u001b[0m\u001b[0;34m.\u001b[0m\u001b[0m_step_count\u001b[0m \u001b[0;34m+=\u001b[0m \u001b[0;36m1\u001b[0m\u001b[0;34m\u001b[0m\u001b[0;34m\u001b[0m\u001b[0m\n\u001b[1;32m     66\u001b[0m                 \u001b[0mwrapped\u001b[0m \u001b[0;34m=\u001b[0m \u001b[0mfunc\u001b[0m\u001b[0;34m.\u001b[0m\u001b[0m__get__\u001b[0m\u001b[0;34m(\u001b[0m\u001b[0minstance\u001b[0m\u001b[0;34m,\u001b[0m \u001b[0mcls\u001b[0m\u001b[0;34m)\u001b[0m\u001b[0;34m\u001b[0m\u001b[0;34m\u001b[0m\u001b[0m\n\u001b[0;32m---> 67\u001b[0;31m                 \u001b[0;32mreturn\u001b[0m \u001b[0mwrapped\u001b[0m\u001b[0;34m(\u001b[0m\u001b[0;34m*\u001b[0m\u001b[0margs\u001b[0m\u001b[0;34m,\u001b[0m \u001b[0;34m**\u001b[0m\u001b[0mkwargs\u001b[0m\u001b[0;34m)\u001b[0m\u001b[0;34m\u001b[0m\u001b[0;34m\u001b[0m\u001b[0m\n\u001b[0m\u001b[1;32m     68\u001b[0m \u001b[0;34m\u001b[0m\u001b[0m\n\u001b[1;32m     69\u001b[0m             \u001b[0;31m# Note that the returned function here is no longer a bound method,\u001b[0m\u001b[0;34m\u001b[0m\u001b[0;34m\u001b[0m\u001b[0;34m\u001b[0m\u001b[0m\n",
            "\u001b[0;32m/usr/local/lib/python3.6/dist-packages/torch/autograd/grad_mode.py\u001b[0m in \u001b[0;36mdecorate_context\u001b[0;34m(*args, **kwargs)\u001b[0m\n\u001b[1;32m     13\u001b[0m         \u001b[0;32mdef\u001b[0m \u001b[0mdecorate_context\u001b[0m\u001b[0;34m(\u001b[0m\u001b[0;34m*\u001b[0m\u001b[0margs\u001b[0m\u001b[0;34m,\u001b[0m \u001b[0;34m**\u001b[0m\u001b[0mkwargs\u001b[0m\u001b[0;34m)\u001b[0m\u001b[0;34m:\u001b[0m\u001b[0;34m\u001b[0m\u001b[0;34m\u001b[0m\u001b[0m\n\u001b[1;32m     14\u001b[0m             \u001b[0;32mwith\u001b[0m \u001b[0mself\u001b[0m\u001b[0;34m:\u001b[0m\u001b[0;34m\u001b[0m\u001b[0;34m\u001b[0m\u001b[0m\n\u001b[0;32m---> 15\u001b[0;31m                 \u001b[0;32mreturn\u001b[0m \u001b[0mfunc\u001b[0m\u001b[0;34m(\u001b[0m\u001b[0;34m*\u001b[0m\u001b[0margs\u001b[0m\u001b[0;34m,\u001b[0m \u001b[0;34m**\u001b[0m\u001b[0mkwargs\u001b[0m\u001b[0;34m)\u001b[0m\u001b[0;34m\u001b[0m\u001b[0;34m\u001b[0m\u001b[0m\n\u001b[0m\u001b[1;32m     16\u001b[0m         \u001b[0;32mreturn\u001b[0m \u001b[0mdecorate_context\u001b[0m\u001b[0;34m\u001b[0m\u001b[0;34m\u001b[0m\u001b[0m\n\u001b[1;32m     17\u001b[0m \u001b[0;34m\u001b[0m\u001b[0m\n",
            "\u001b[0;32m/usr/local/lib/python3.6/dist-packages/torch/optim/adam.py\u001b[0m in \u001b[0;36mstep\u001b[0;34m(self, closure)\u001b[0m\n\u001b[1;32m    109\u001b[0m                 \u001b[0mstep_size\u001b[0m \u001b[0;34m=\u001b[0m \u001b[0mgroup\u001b[0m\u001b[0;34m[\u001b[0m\u001b[0;34m'lr'\u001b[0m\u001b[0;34m]\u001b[0m \u001b[0;34m/\u001b[0m \u001b[0mbias_correction1\u001b[0m\u001b[0;34m\u001b[0m\u001b[0;34m\u001b[0m\u001b[0m\n\u001b[1;32m    110\u001b[0m \u001b[0;34m\u001b[0m\u001b[0m\n\u001b[0;32m--> 111\u001b[0;31m                 \u001b[0mp\u001b[0m\u001b[0;34m.\u001b[0m\u001b[0maddcdiv_\u001b[0m\u001b[0;34m(\u001b[0m\u001b[0mexp_avg\u001b[0m\u001b[0;34m,\u001b[0m \u001b[0mdenom\u001b[0m\u001b[0;34m,\u001b[0m \u001b[0mvalue\u001b[0m\u001b[0;34m=\u001b[0m\u001b[0;34m-\u001b[0m\u001b[0mstep_size\u001b[0m\u001b[0;34m)\u001b[0m\u001b[0;34m\u001b[0m\u001b[0;34m\u001b[0m\u001b[0m\n\u001b[0m\u001b[1;32m    112\u001b[0m \u001b[0;34m\u001b[0m\u001b[0m\n\u001b[1;32m    113\u001b[0m         \u001b[0;32mreturn\u001b[0m \u001b[0mloss\u001b[0m\u001b[0;34m\u001b[0m\u001b[0;34m\u001b[0m\u001b[0m\n",
            "\u001b[0;31mKeyboardInterrupt\u001b[0m: "
          ]
        }
      ]
    },
    {
      "cell_type": "code",
      "metadata": {
        "id": "i7X7ciw3KTiS"
      },
      "source": [
        ""
      ],
      "execution_count": null,
      "outputs": []
    }
  ]
}